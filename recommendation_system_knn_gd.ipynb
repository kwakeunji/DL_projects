{
 "cells": [
  {
   "cell_type": "markdown",
   "id": "27f0e54d",
   "metadata": {},
   "source": [
    "## recommendation system with knn\n",
    "- cols = beer_name, review_profilename, review_overall, review_aroma, review_appearance"
   ]
  },
  {
   "cell_type": "code",
   "execution_count": 44,
   "id": "fe1d49b3",
   "metadata": {},
   "outputs": [
    {
     "data": {
      "text/plain": [
       "13"
      ]
     },
     "execution_count": 44,
     "metadata": {},
     "output_type": "execute_result"
    }
   ],
   "source": [
    "import pandas as pd\n",
    "\n",
    "path = '/Users/gwag-eunji/Downloads/beer_reviews.csv'\n",
    "data = pd.read_csv(path)\n",
    "data.head()\n",
    "len(data.columns)"
   ]
  },
  {
   "cell_type": "code",
   "execution_count": 46,
   "id": "ded03434",
   "metadata": {},
   "outputs": [
    {
     "data": {
      "text/html": [
       "<div>\n",
       "<style scoped>\n",
       "    .dataframe tbody tr th:only-of-type {\n",
       "        vertical-align: middle;\n",
       "    }\n",
       "\n",
       "    .dataframe tbody tr th {\n",
       "        vertical-align: top;\n",
       "    }\n",
       "\n",
       "    .dataframe thead th {\n",
       "        text-align: right;\n",
       "    }\n",
       "</style>\n",
       "<table border=\"1\" class=\"dataframe\">\n",
       "  <thead>\n",
       "    <tr style=\"text-align: right;\">\n",
       "      <th></th>\n",
       "      <th>brewery_id</th>\n",
       "      <th>brewery_name</th>\n",
       "      <th>review_time</th>\n",
       "      <th>review_overall</th>\n",
       "      <th>review_aroma</th>\n",
       "      <th>review_appearance</th>\n",
       "      <th>review_profilename</th>\n",
       "      <th>beer_style</th>\n",
       "      <th>review_palate</th>\n",
       "      <th>review_taste</th>\n",
       "      <th>beer_name</th>\n",
       "      <th>beer_abv</th>\n",
       "      <th>beer_beerid</th>\n",
       "    </tr>\n",
       "  </thead>\n",
       "  <tbody>\n",
       "    <tr>\n",
       "      <th>9996</th>\n",
       "      <td>21590</td>\n",
       "      <td>Ram Restaurant &amp; Brewery</td>\n",
       "      <td>1259451373</td>\n",
       "      <td>3.5</td>\n",
       "      <td>3.5</td>\n",
       "      <td>3.5</td>\n",
       "      <td>jdense</td>\n",
       "      <td>American IPA</td>\n",
       "      <td>3.5</td>\n",
       "      <td>3.0</td>\n",
       "      <td>Big Red IPA</td>\n",
       "      <td>6.0</td>\n",
       "      <td>54411</td>\n",
       "    </tr>\n",
       "    <tr>\n",
       "      <th>9997</th>\n",
       "      <td>5049</td>\n",
       "      <td>Bath Ales Ltd</td>\n",
       "      <td>1277680856</td>\n",
       "      <td>3.5</td>\n",
       "      <td>3.5</td>\n",
       "      <td>3.5</td>\n",
       "      <td>AEK</td>\n",
       "      <td>English Bitter</td>\n",
       "      <td>3.5</td>\n",
       "      <td>3.5</td>\n",
       "      <td>Golden Hare</td>\n",
       "      <td>4.4</td>\n",
       "      <td>52239</td>\n",
       "    </tr>\n",
       "    <tr>\n",
       "      <th>9998</th>\n",
       "      <td>5049</td>\n",
       "      <td>Bath Ales Ltd</td>\n",
       "      <td>1205875855</td>\n",
       "      <td>4.0</td>\n",
       "      <td>4.0</td>\n",
       "      <td>4.0</td>\n",
       "      <td>wl0307</td>\n",
       "      <td>English Bitter</td>\n",
       "      <td>3.5</td>\n",
       "      <td>4.0</td>\n",
       "      <td>SPA</td>\n",
       "      <td>3.7</td>\n",
       "      <td>41647</td>\n",
       "    </tr>\n",
       "    <tr>\n",
       "      <th>9999</th>\n",
       "      <td>5049</td>\n",
       "      <td>Bath Ales Ltd</td>\n",
       "      <td>1312801866</td>\n",
       "      <td>3.5</td>\n",
       "      <td>4.0</td>\n",
       "      <td>4.5</td>\n",
       "      <td>fullsweep</td>\n",
       "      <td>English Bitter</td>\n",
       "      <td>3.5</td>\n",
       "      <td>3.5</td>\n",
       "      <td>Wild Hare</td>\n",
       "      <td>5.0</td>\n",
       "      <td>34416</td>\n",
       "    </tr>\n",
       "    <tr>\n",
       "      <th>10000</th>\n",
       "      <td>5049</td>\n",
       "      <td>Bath Ales Ltd</td>\n",
       "      <td>1238938746</td>\n",
       "      <td>4.0</td>\n",
       "      <td>4.0</td>\n",
       "      <td>3.0</td>\n",
       "      <td>BlackHaddock</td>\n",
       "      <td>English Bitter</td>\n",
       "      <td>4.0</td>\n",
       "      <td>4.5</td>\n",
       "      <td>Wild Hare</td>\n",
       "      <td>5.0</td>\n",
       "      <td>34416</td>\n",
       "    </tr>\n",
       "  </tbody>\n",
       "</table>\n",
       "</div>"
      ],
      "text/plain": [
       "       brewery_id              brewery_name  review_time  review_overall  \\\n",
       "9996        21590  Ram Restaurant & Brewery   1259451373             3.5   \n",
       "9997         5049             Bath Ales Ltd   1277680856             3.5   \n",
       "9998         5049             Bath Ales Ltd   1205875855             4.0   \n",
       "9999         5049             Bath Ales Ltd   1312801866             3.5   \n",
       "10000        5049             Bath Ales Ltd   1238938746             4.0   \n",
       "\n",
       "       review_aroma  review_appearance review_profilename      beer_style  \\\n",
       "9996            3.5                3.5             jdense    American IPA   \n",
       "9997            3.5                3.5                AEK  English Bitter   \n",
       "9998            4.0                4.0             wl0307  English Bitter   \n",
       "9999            4.0                4.5          fullsweep  English Bitter   \n",
       "10000           4.0                3.0       BlackHaddock  English Bitter   \n",
       "\n",
       "       review_palate  review_taste    beer_name  beer_abv  beer_beerid  \n",
       "9996             3.5           3.0  Big Red IPA       6.0        54411  \n",
       "9997             3.5           3.5  Golden Hare       4.4        52239  \n",
       "9998             3.5           4.0          SPA       3.7        41647  \n",
       "9999             3.5           3.5    Wild Hare       5.0        34416  \n",
       "10000            4.0           4.5    Wild Hare       5.0        34416  "
      ]
     },
     "execution_count": 46,
     "metadata": {},
     "output_type": "execute_result"
    }
   ],
   "source": [
    "re_data = data.iloc[1:10001]\n",
    "re_data.tail()"
   ]
  },
  {
   "cell_type": "code",
   "execution_count": 60,
   "id": "5f635676",
   "metadata": {},
   "outputs": [
    {
     "name": "stdout",
     "output_type": "stream",
     "text": [
      "                    beer_name\n",
      "1                    Red Moon\n",
      "2      Black Horse Black Beer\n",
      "3                  Sausa Pils\n",
      "4               Cauldron DIPA\n",
      "5         Caldera Ginger Beer\n",
      "...                       ...\n",
      "9996              Big Red IPA\n",
      "9997              Golden Hare\n",
      "9998                      SPA\n",
      "9999                Wild Hare\n",
      "10000               Wild Hare\n",
      "\n",
      "[10000 rows x 1 columns]\n"
     ]
    },
    {
     "data": {
      "text/html": [
       "<div>\n",
       "<style scoped>\n",
       "    .dataframe tbody tr th:only-of-type {\n",
       "        vertical-align: middle;\n",
       "    }\n",
       "\n",
       "    .dataframe tbody tr th {\n",
       "        vertical-align: top;\n",
       "    }\n",
       "\n",
       "    .dataframe thead th {\n",
       "        text-align: right;\n",
       "    }\n",
       "</style>\n",
       "<table border=\"1\" class=\"dataframe\">\n",
       "  <thead>\n",
       "    <tr style=\"text-align: right;\">\n",
       "      <th></th>\n",
       "      <th>review_overall</th>\n",
       "      <th>review_aroma</th>\n",
       "      <th>review_appearance</th>\n",
       "    </tr>\n",
       "  </thead>\n",
       "  <tbody>\n",
       "    <tr>\n",
       "      <th>1</th>\n",
       "      <td>3.0</td>\n",
       "      <td>2.5</td>\n",
       "      <td>3.0</td>\n",
       "    </tr>\n",
       "    <tr>\n",
       "      <th>2</th>\n",
       "      <td>3.0</td>\n",
       "      <td>2.5</td>\n",
       "      <td>3.0</td>\n",
       "    </tr>\n",
       "    <tr>\n",
       "      <th>3</th>\n",
       "      <td>3.0</td>\n",
       "      <td>3.0</td>\n",
       "      <td>3.5</td>\n",
       "    </tr>\n",
       "    <tr>\n",
       "      <th>4</th>\n",
       "      <td>4.0</td>\n",
       "      <td>4.5</td>\n",
       "      <td>4.0</td>\n",
       "    </tr>\n",
       "    <tr>\n",
       "      <th>5</th>\n",
       "      <td>3.0</td>\n",
       "      <td>3.5</td>\n",
       "      <td>3.5</td>\n",
       "    </tr>\n",
       "    <tr>\n",
       "      <th>...</th>\n",
       "      <td>...</td>\n",
       "      <td>...</td>\n",
       "      <td>...</td>\n",
       "    </tr>\n",
       "    <tr>\n",
       "      <th>9996</th>\n",
       "      <td>3.5</td>\n",
       "      <td>3.5</td>\n",
       "      <td>3.5</td>\n",
       "    </tr>\n",
       "    <tr>\n",
       "      <th>9997</th>\n",
       "      <td>3.5</td>\n",
       "      <td>3.5</td>\n",
       "      <td>3.5</td>\n",
       "    </tr>\n",
       "    <tr>\n",
       "      <th>9998</th>\n",
       "      <td>4.0</td>\n",
       "      <td>4.0</td>\n",
       "      <td>4.0</td>\n",
       "    </tr>\n",
       "    <tr>\n",
       "      <th>9999</th>\n",
       "      <td>3.5</td>\n",
       "      <td>4.0</td>\n",
       "      <td>4.5</td>\n",
       "    </tr>\n",
       "    <tr>\n",
       "      <th>10000</th>\n",
       "      <td>4.0</td>\n",
       "      <td>4.0</td>\n",
       "      <td>3.0</td>\n",
       "    </tr>\n",
       "  </tbody>\n",
       "</table>\n",
       "<p>10000 rows × 3 columns</p>\n",
       "</div>"
      ],
      "text/plain": [
       "       review_overall  review_aroma  review_appearance\n",
       "1                 3.0           2.5                3.0\n",
       "2                 3.0           2.5                3.0\n",
       "3                 3.0           3.0                3.5\n",
       "4                 4.0           4.5                4.0\n",
       "5                 3.0           3.5                3.5\n",
       "...               ...           ...                ...\n",
       "9996              3.5           3.5                3.5\n",
       "9997              3.5           3.5                3.5\n",
       "9998              4.0           4.0                4.0\n",
       "9999              3.5           4.0                4.5\n",
       "10000             4.0           4.0                3.0\n",
       "\n",
       "[10000 rows x 3 columns]"
      ]
     },
     "execution_count": 60,
     "metadata": {},
     "output_type": "execute_result"
    }
   ],
   "source": [
    "user_info = re_data.iloc[:,-7:-6]\n",
    "beer_info = re_data.iloc[:, -3:-2]\n",
    "rating_info = re_data.iloc[:, 3:6]\n",
    "user_info\n",
    "rating_info"
   ]
  },
  {
   "cell_type": "code",
   "execution_count": 61,
   "id": "f925dc16",
   "metadata": {
    "scrolled": true
   },
   "outputs": [
    {
     "data": {
      "text/html": [
       "<div>\n",
       "<style scoped>\n",
       "    .dataframe tbody tr th:only-of-type {\n",
       "        vertical-align: middle;\n",
       "    }\n",
       "\n",
       "    .dataframe tbody tr th {\n",
       "        vertical-align: top;\n",
       "    }\n",
       "\n",
       "    .dataframe thead th {\n",
       "        text-align: right;\n",
       "    }\n",
       "</style>\n",
       "<table border=\"1\" class=\"dataframe\">\n",
       "  <thead>\n",
       "    <tr style=\"text-align: right;\">\n",
       "      <th></th>\n",
       "      <th>review_profilename</th>\n",
       "      <th>beer_name</th>\n",
       "      <th>review_overall</th>\n",
       "      <th>review_aroma</th>\n",
       "      <th>review_appearance</th>\n",
       "    </tr>\n",
       "  </thead>\n",
       "  <tbody>\n",
       "    <tr>\n",
       "      <th>1</th>\n",
       "      <td>stcules</td>\n",
       "      <td>Red Moon</td>\n",
       "      <td>3.0</td>\n",
       "      <td>2.5</td>\n",
       "      <td>3.0</td>\n",
       "    </tr>\n",
       "    <tr>\n",
       "      <th>2</th>\n",
       "      <td>stcules</td>\n",
       "      <td>Black Horse Black Beer</td>\n",
       "      <td>3.0</td>\n",
       "      <td>2.5</td>\n",
       "      <td>3.0</td>\n",
       "    </tr>\n",
       "    <tr>\n",
       "      <th>3</th>\n",
       "      <td>stcules</td>\n",
       "      <td>Sausa Pils</td>\n",
       "      <td>3.0</td>\n",
       "      <td>3.0</td>\n",
       "      <td>3.5</td>\n",
       "    </tr>\n",
       "    <tr>\n",
       "      <th>4</th>\n",
       "      <td>johnmichaelsen</td>\n",
       "      <td>Cauldron DIPA</td>\n",
       "      <td>4.0</td>\n",
       "      <td>4.5</td>\n",
       "      <td>4.0</td>\n",
       "    </tr>\n",
       "    <tr>\n",
       "      <th>5</th>\n",
       "      <td>oline73</td>\n",
       "      <td>Caldera Ginger Beer</td>\n",
       "      <td>3.0</td>\n",
       "      <td>3.5</td>\n",
       "      <td>3.5</td>\n",
       "    </tr>\n",
       "  </tbody>\n",
       "</table>\n",
       "</div>"
      ],
      "text/plain": [
       "  review_profilename               beer_name  review_overall  review_aroma  \\\n",
       "1            stcules                Red Moon             3.0           2.5   \n",
       "2            stcules  Black Horse Black Beer             3.0           2.5   \n",
       "3            stcules              Sausa Pils             3.0           3.0   \n",
       "4     johnmichaelsen           Cauldron DIPA             4.0           4.5   \n",
       "5            oline73     Caldera Ginger Beer             3.0           3.5   \n",
       "\n",
       "   review_appearance  \n",
       "1                3.0  \n",
       "2                3.0  \n",
       "3                3.5  \n",
       "4                4.0  \n",
       "5                3.5  "
      ]
     },
     "execution_count": 61,
     "metadata": {},
     "output_type": "execute_result"
    }
   ],
   "source": [
    "concat_data = pd.concat([user_info, beer_info, rating_info], axis=1)\n",
    "concat_data.head()"
   ]
  },
  {
   "cell_type": "code",
   "execution_count": 69,
   "id": "39c63725",
   "metadata": {},
   "outputs": [
    {
     "data": {
      "text/plain": [
       "(945, 3192)"
      ]
     },
     "execution_count": 69,
     "metadata": {},
     "output_type": "execute_result"
    }
   ],
   "source": [
    "user_rating = concat_data.drop_duplicates(['beer_name', 'review_profilename'])\n",
    "user_rating.head()\n",
    "user_rating_pivot = user_rating.pivot(index='beer_name', columns='review_profilename', values='review_overall').fillna(0)\n",
    "user_rating_pivot.shape"
   ]
  },
  {
   "cell_type": "code",
   "execution_count": 71,
   "id": "681396fb",
   "metadata": {},
   "outputs": [
    {
     "data": {
      "text/plain": [
       "(945, 3192)"
      ]
     },
     "execution_count": 71,
     "metadata": {},
     "output_type": "execute_result"
    }
   ],
   "source": [
    "from scipy.sparse import csr_matrix\n",
    "user_rating_matrix = csr_matrix(user_rating_pivot.values)\n",
    "user_rating_matrix\n",
    "user_rating_pivot.shape"
   ]
  },
  {
   "cell_type": "code",
   "execution_count": 73,
   "id": "b85f4918",
   "metadata": {},
   "outputs": [
    {
     "data": {
      "text/html": [
       "<style>#sk-container-id-2 {color: black;background-color: white;}#sk-container-id-2 pre{padding: 0;}#sk-container-id-2 div.sk-toggleable {background-color: white;}#sk-container-id-2 label.sk-toggleable__label {cursor: pointer;display: block;width: 100%;margin-bottom: 0;padding: 0.3em;box-sizing: border-box;text-align: center;}#sk-container-id-2 label.sk-toggleable__label-arrow:before {content: \"▸\";float: left;margin-right: 0.25em;color: #696969;}#sk-container-id-2 label.sk-toggleable__label-arrow:hover:before {color: black;}#sk-container-id-2 div.sk-estimator:hover label.sk-toggleable__label-arrow:before {color: black;}#sk-container-id-2 div.sk-toggleable__content {max-height: 0;max-width: 0;overflow: hidden;text-align: left;background-color: #f0f8ff;}#sk-container-id-2 div.sk-toggleable__content pre {margin: 0.2em;color: black;border-radius: 0.25em;background-color: #f0f8ff;}#sk-container-id-2 input.sk-toggleable__control:checked~div.sk-toggleable__content {max-height: 200px;max-width: 100%;overflow: auto;}#sk-container-id-2 input.sk-toggleable__control:checked~label.sk-toggleable__label-arrow:before {content: \"▾\";}#sk-container-id-2 div.sk-estimator input.sk-toggleable__control:checked~label.sk-toggleable__label {background-color: #d4ebff;}#sk-container-id-2 div.sk-label input.sk-toggleable__control:checked~label.sk-toggleable__label {background-color: #d4ebff;}#sk-container-id-2 input.sk-hidden--visually {border: 0;clip: rect(1px 1px 1px 1px);clip: rect(1px, 1px, 1px, 1px);height: 1px;margin: -1px;overflow: hidden;padding: 0;position: absolute;width: 1px;}#sk-container-id-2 div.sk-estimator {font-family: monospace;background-color: #f0f8ff;border: 1px dotted black;border-radius: 0.25em;box-sizing: border-box;margin-bottom: 0.5em;}#sk-container-id-2 div.sk-estimator:hover {background-color: #d4ebff;}#sk-container-id-2 div.sk-parallel-item::after {content: \"\";width: 100%;border-bottom: 1px solid gray;flex-grow: 1;}#sk-container-id-2 div.sk-label:hover label.sk-toggleable__label {background-color: #d4ebff;}#sk-container-id-2 div.sk-serial::before {content: \"\";position: absolute;border-left: 1px solid gray;box-sizing: border-box;top: 0;bottom: 0;left: 50%;z-index: 0;}#sk-container-id-2 div.sk-serial {display: flex;flex-direction: column;align-items: center;background-color: white;padding-right: 0.2em;padding-left: 0.2em;position: relative;}#sk-container-id-2 div.sk-item {position: relative;z-index: 1;}#sk-container-id-2 div.sk-parallel {display: flex;align-items: stretch;justify-content: center;background-color: white;position: relative;}#sk-container-id-2 div.sk-item::before, #sk-container-id-2 div.sk-parallel-item::before {content: \"\";position: absolute;border-left: 1px solid gray;box-sizing: border-box;top: 0;bottom: 0;left: 50%;z-index: -1;}#sk-container-id-2 div.sk-parallel-item {display: flex;flex-direction: column;z-index: 1;position: relative;background-color: white;}#sk-container-id-2 div.sk-parallel-item:first-child::after {align-self: flex-end;width: 50%;}#sk-container-id-2 div.sk-parallel-item:last-child::after {align-self: flex-start;width: 50%;}#sk-container-id-2 div.sk-parallel-item:only-child::after {width: 0;}#sk-container-id-2 div.sk-dashed-wrapped {border: 1px dashed gray;margin: 0 0.4em 0.5em 0.4em;box-sizing: border-box;padding-bottom: 0.4em;background-color: white;}#sk-container-id-2 div.sk-label label {font-family: monospace;font-weight: bold;display: inline-block;line-height: 1.2em;}#sk-container-id-2 div.sk-label-container {text-align: center;}#sk-container-id-2 div.sk-container {/* jupyter's `normalize.less` sets `[hidden] { display: none; }` but bootstrap.min.css set `[hidden] { display: none !important; }` so we also need the `!important` here to be able to override the default hidden behavior on the sphinx rendered scikit-learn.org. See: https://github.com/scikit-learn/scikit-learn/issues/21755 */display: inline-block !important;position: relative;}#sk-container-id-2 div.sk-text-repr-fallback {display: none;}</style><div id=\"sk-container-id-2\" class=\"sk-top-container\"><div class=\"sk-text-repr-fallback\"><pre>NearestNeighbors(algorithm=&#x27;brute&#x27;, metric=&#x27;cosine&#x27;)</pre><b>In a Jupyter environment, please rerun this cell to show the HTML representation or trust the notebook. <br />On GitHub, the HTML representation is unable to render, please try loading this page with nbviewer.org.</b></div><div class=\"sk-container\" hidden><div class=\"sk-item\"><div class=\"sk-estimator sk-toggleable\"><input class=\"sk-toggleable__control sk-hidden--visually\" id=\"sk-estimator-id-2\" type=\"checkbox\" checked><label for=\"sk-estimator-id-2\" class=\"sk-toggleable__label sk-toggleable__label-arrow\">NearestNeighbors</label><div class=\"sk-toggleable__content\"><pre>NearestNeighbors(algorithm=&#x27;brute&#x27;, metric=&#x27;cosine&#x27;)</pre></div></div></div></div></div>"
      ],
      "text/plain": [
       "NearestNeighbors(algorithm='brute', metric='cosine')"
      ]
     },
     "execution_count": 73,
     "metadata": {},
     "output_type": "execute_result"
    }
   ],
   "source": [
    "from sklearn.neighbors import NearestNeighbors\n",
    "model_knn=NearestNeighbors(metric=\"cosine\",algorithm=\"brute\")\n",
    "model_knn.fit(user_rating_matrix)"
   ]
  },
  {
   "cell_type": "code",
   "execution_count": 74,
   "id": "00003079",
   "metadata": {},
   "outputs": [
    {
     "name": "stdout",
     "output_type": "stream",
     "text": [
      "review_profilename\n",
      "NaN         0.0\n",
      "05Harley    0.0\n",
      "1759Girl    0.0\n",
      "1Adam12     0.0\n",
      "1fastz28    0.0\n",
      "           ... \n",
      "zimm421     0.0\n",
      "zoolzoo     0.0\n",
      "zoso1967    0.0\n",
      "zrab11      0.0\n",
      "zuggy9      0.0\n",
      "Name: Batch 1300, Length: 3192, dtype: float64\n"
     ]
    }
   ],
   "source": [
    "import numpy as np\n",
    "query_index = np.random.choice(user_rating_pivot.shape[0])\n",
    "print(user_rating_pivot.iloc[query_index,:])"
   ]
  },
  {
   "cell_type": "code",
   "execution_count": 81,
   "id": "7cc07509",
   "metadata": {},
   "outputs": [
    {
     "name": "stdout",
     "output_type": "stream",
     "text": [
      "Distances= [[0.         0.21064778 0.29289322 0.34149539 0.60683317 0.70144265]] Indices= [[ 84 369 776 332 753 751]]\n",
      "[0.         0.21064778 0.29289322 0.34149539 0.60683317 0.70144265]\n",
      "6\n",
      "recommendation for Batch 1300:\n",
      "\n",
      "1: Halliburton On Trent, with distacne of 0.21064778262367367:\n",
      "2: Smoke Of A Beech Smoked IPA, with distacne of 0.29289321881345254:\n",
      "3: Frambozen, with distacne of 0.34149539213148195:\n",
      "4: Scotch Ale, with distacne of 0.6068331745025329:\n",
      "5: Schwarz Beer, with distacne of 0.7014426516551696:\n"
     ]
    }
   ],
   "source": [
    "distances, indices = model_knn.kneighbors(user_rating_pivot.iloc[query_index,:].values.reshape(1, -1)\n",
    "                                         , n_neighbors=6)\n",
    "print('Distances=',distances, 'Indices=', indices)\n",
    "print(distances.flatten())\n",
    "print(len(distances.flatten()))\n",
    "\n",
    "for i in range(0, len(distances.flatten())):\n",
    "    if i == 0:\n",
    "        print('recommendation for {0}:\\n'.format(user_rating_pivot.index[query_index]))\n",
    "    else:\n",
    "        print('{0}: {1}, with distacne of {2}:'.format(i, user_rating_pivot.index[indices.flatten()[i]],\n",
    "                                                      distances.flatten()[i]) )"
   ]
  },
  {
   "cell_type": "code",
   "execution_count": null,
   "id": "7b5e913d",
   "metadata": {},
   "outputs": [],
   "source": []
  },
  {
   "cell_type": "code",
   "execution_count": 88,
   "id": "7ce1bcbb",
   "metadata": {},
   "outputs": [
    {
     "data": {
      "text/plain": [
       "(9932, 5)"
      ]
     },
     "execution_count": 88,
     "metadata": {},
     "output_type": "execute_result"
    }
   ],
   "source": [
    "user_rating.head()\n",
    "user_rating.shape"
   ]
  },
  {
   "cell_type": "code",
   "execution_count": 94,
   "id": "e8a14aad",
   "metadata": {},
   "outputs": [
    {
     "data": {
      "text/html": [
       "<div>\n",
       "<style scoped>\n",
       "    .dataframe tbody tr th:only-of-type {\n",
       "        vertical-align: middle;\n",
       "    }\n",
       "\n",
       "    .dataframe tbody tr th {\n",
       "        vertical-align: top;\n",
       "    }\n",
       "\n",
       "    .dataframe thead th {\n",
       "        text-align: right;\n",
       "    }\n",
       "</style>\n",
       "<table border=\"1\" class=\"dataframe\">\n",
       "  <thead>\n",
       "    <tr style=\"text-align: right;\">\n",
       "      <th></th>\n",
       "      <th>review_profilename</th>\n",
       "      <th>beer_name</th>\n",
       "      <th>review_overall</th>\n",
       "      <th>review_aroma</th>\n",
       "      <th>review_appearance</th>\n",
       "    </tr>\n",
       "  </thead>\n",
       "  <tbody>\n",
       "    <tr>\n",
       "      <th>7022</th>\n",
       "      <td>Absumaster</td>\n",
       "      <td>La Binchoise Blonde Tradition</td>\n",
       "      <td>4.0</td>\n",
       "      <td>3.5</td>\n",
       "      <td>4.0</td>\n",
       "    </tr>\n",
       "    <tr>\n",
       "      <th>7023</th>\n",
       "      <td>jwc215</td>\n",
       "      <td>La Binchoise Blonde Tradition</td>\n",
       "      <td>4.5</td>\n",
       "      <td>4.0</td>\n",
       "      <td>4.5</td>\n",
       "    </tr>\n",
       "    <tr>\n",
       "      <th>7024</th>\n",
       "      <td>djeucalyptus</td>\n",
       "      <td>La Binchoise Blonde Tradition</td>\n",
       "      <td>4.5</td>\n",
       "      <td>4.0</td>\n",
       "      <td>4.5</td>\n",
       "    </tr>\n",
       "    <tr>\n",
       "      <th>7025</th>\n",
       "      <td>gregmurer</td>\n",
       "      <td>La Binchoise Blonde Tradition</td>\n",
       "      <td>5.0</td>\n",
       "      <td>4.0</td>\n",
       "      <td>4.5</td>\n",
       "    </tr>\n",
       "    <tr>\n",
       "      <th>7026</th>\n",
       "      <td>Nipitato</td>\n",
       "      <td>La Binchoise Blonde Tradition</td>\n",
       "      <td>4.5</td>\n",
       "      <td>5.0</td>\n",
       "      <td>3.5</td>\n",
       "    </tr>\n",
       "  </tbody>\n",
       "</table>\n",
       "</div>"
      ],
      "text/plain": [
       "     review_profilename                      beer_name  review_overall  \\\n",
       "7022         Absumaster  La Binchoise Blonde Tradition             4.0   \n",
       "7023             jwc215  La Binchoise Blonde Tradition             4.5   \n",
       "7024       djeucalyptus  La Binchoise Blonde Tradition             4.5   \n",
       "7025          gregmurer  La Binchoise Blonde Tradition             5.0   \n",
       "7026           Nipitato  La Binchoise Blonde Tradition             4.5   \n",
       "\n",
       "      review_aroma  review_appearance  \n",
       "7022           3.5                4.0  \n",
       "7023           4.0                4.5  \n",
       "7024           4.0                4.5  \n",
       "7025           4.0                4.5  \n",
       "7026           5.0                3.5  "
      ]
     },
     "execution_count": 94,
     "metadata": {},
     "output_type": "execute_result"
    }
   ],
   "source": [
    "train_dataset = user_rating.iloc[0:6001]\n",
    "val_dataset = user_rating.iloc[6001: 7000]\n",
    "test_dataset = user_rating.iloc[7000:]\n",
    "test_dataset.head()"
   ]
  }
 ],
 "metadata": {
  "kernelspec": {
   "display_name": "Python 3 (ipykernel)",
   "language": "python",
   "name": "python3"
  },
  "language_info": {
   "codemirror_mode": {
    "name": "ipython",
    "version": 3
   },
   "file_extension": ".py",
   "mimetype": "text/x-python",
   "name": "python",
   "nbconvert_exporter": "python",
   "pygments_lexer": "ipython3",
   "version": "3.9.12"
  }
 },
 "nbformat": 4,
 "nbformat_minor": 5
}

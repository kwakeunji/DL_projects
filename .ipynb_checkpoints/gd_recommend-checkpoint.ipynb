{
 "cells": [
  {
   "cell_type": "markdown",
   "id": "27f0e54d",
   "metadata": {},
   "source": [
    "## recommendation system with knn\n",
    "- cols = beer_name, review_profilename, review_overall, review_aroma, review_appearance"
   ]
  },
  {
   "cell_type": "code",
   "execution_count": 1,
   "id": "fe1d49b3",
   "metadata": {},
   "outputs": [
    {
     "data": {
      "text/plain": [
       "13"
      ]
     },
     "execution_count": 1,
     "metadata": {},
     "output_type": "execute_result"
    }
   ],
   "source": [
    "import pandas as pd\n",
    "\n",
    "path = '/home/ines/Downloads/beer_reviews.csv'\n",
    "data = pd.read_csv(path)\n",
    "data.head()\n",
    "len(data.columns)"
   ]
  },
  {
   "cell_type": "code",
   "execution_count": 2,
   "id": "ded03434",
   "metadata": {},
   "outputs": [
    {
     "data": {
      "text/html": [
       "<div>\n",
       "<style scoped>\n",
       "    .dataframe tbody tr th:only-of-type {\n",
       "        vertical-align: middle;\n",
       "    }\n",
       "\n",
       "    .dataframe tbody tr th {\n",
       "        vertical-align: top;\n",
       "    }\n",
       "\n",
       "    .dataframe thead th {\n",
       "        text-align: right;\n",
       "    }\n",
       "</style>\n",
       "<table border=\"1\" class=\"dataframe\">\n",
       "  <thead>\n",
       "    <tr style=\"text-align: right;\">\n",
       "      <th></th>\n",
       "      <th>brewery_id</th>\n",
       "      <th>brewery_name</th>\n",
       "      <th>review_time</th>\n",
       "      <th>review_overall</th>\n",
       "      <th>review_aroma</th>\n",
       "      <th>review_appearance</th>\n",
       "      <th>review_profilename</th>\n",
       "      <th>beer_style</th>\n",
       "      <th>review_palate</th>\n",
       "      <th>review_taste</th>\n",
       "      <th>beer_name</th>\n",
       "      <th>beer_abv</th>\n",
       "      <th>beer_beerid</th>\n",
       "    </tr>\n",
       "  </thead>\n",
       "  <tbody>\n",
       "    <tr>\n",
       "      <th>9996</th>\n",
       "      <td>21590</td>\n",
       "      <td>Ram Restaurant &amp; Brewery</td>\n",
       "      <td>1259451373</td>\n",
       "      <td>3.5</td>\n",
       "      <td>3.5</td>\n",
       "      <td>3.5</td>\n",
       "      <td>jdense</td>\n",
       "      <td>American IPA</td>\n",
       "      <td>3.5</td>\n",
       "      <td>3.0</td>\n",
       "      <td>Big Red IPA</td>\n",
       "      <td>6.0</td>\n",
       "      <td>54411</td>\n",
       "    </tr>\n",
       "    <tr>\n",
       "      <th>9997</th>\n",
       "      <td>5049</td>\n",
       "      <td>Bath Ales Ltd</td>\n",
       "      <td>1277680856</td>\n",
       "      <td>3.5</td>\n",
       "      <td>3.5</td>\n",
       "      <td>3.5</td>\n",
       "      <td>AEK</td>\n",
       "      <td>English Bitter</td>\n",
       "      <td>3.5</td>\n",
       "      <td>3.5</td>\n",
       "      <td>Golden Hare</td>\n",
       "      <td>4.4</td>\n",
       "      <td>52239</td>\n",
       "    </tr>\n",
       "    <tr>\n",
       "      <th>9998</th>\n",
       "      <td>5049</td>\n",
       "      <td>Bath Ales Ltd</td>\n",
       "      <td>1205875855</td>\n",
       "      <td>4.0</td>\n",
       "      <td>4.0</td>\n",
       "      <td>4.0</td>\n",
       "      <td>wl0307</td>\n",
       "      <td>English Bitter</td>\n",
       "      <td>3.5</td>\n",
       "      <td>4.0</td>\n",
       "      <td>SPA</td>\n",
       "      <td>3.7</td>\n",
       "      <td>41647</td>\n",
       "    </tr>\n",
       "    <tr>\n",
       "      <th>9999</th>\n",
       "      <td>5049</td>\n",
       "      <td>Bath Ales Ltd</td>\n",
       "      <td>1312801866</td>\n",
       "      <td>3.5</td>\n",
       "      <td>4.0</td>\n",
       "      <td>4.5</td>\n",
       "      <td>fullsweep</td>\n",
       "      <td>English Bitter</td>\n",
       "      <td>3.5</td>\n",
       "      <td>3.5</td>\n",
       "      <td>Wild Hare</td>\n",
       "      <td>5.0</td>\n",
       "      <td>34416</td>\n",
       "    </tr>\n",
       "    <tr>\n",
       "      <th>10000</th>\n",
       "      <td>5049</td>\n",
       "      <td>Bath Ales Ltd</td>\n",
       "      <td>1238938746</td>\n",
       "      <td>4.0</td>\n",
       "      <td>4.0</td>\n",
       "      <td>3.0</td>\n",
       "      <td>BlackHaddock</td>\n",
       "      <td>English Bitter</td>\n",
       "      <td>4.0</td>\n",
       "      <td>4.5</td>\n",
       "      <td>Wild Hare</td>\n",
       "      <td>5.0</td>\n",
       "      <td>34416</td>\n",
       "    </tr>\n",
       "  </tbody>\n",
       "</table>\n",
       "</div>"
      ],
      "text/plain": [
       "       brewery_id              brewery_name  review_time  review_overall  \\\n",
       "9996        21590  Ram Restaurant & Brewery   1259451373             3.5   \n",
       "9997         5049             Bath Ales Ltd   1277680856             3.5   \n",
       "9998         5049             Bath Ales Ltd   1205875855             4.0   \n",
       "9999         5049             Bath Ales Ltd   1312801866             3.5   \n",
       "10000        5049             Bath Ales Ltd   1238938746             4.0   \n",
       "\n",
       "       review_aroma  review_appearance review_profilename      beer_style  \\\n",
       "9996            3.5                3.5             jdense    American IPA   \n",
       "9997            3.5                3.5                AEK  English Bitter   \n",
       "9998            4.0                4.0             wl0307  English Bitter   \n",
       "9999            4.0                4.5          fullsweep  English Bitter   \n",
       "10000           4.0                3.0       BlackHaddock  English Bitter   \n",
       "\n",
       "       review_palate  review_taste    beer_name  beer_abv  beer_beerid  \n",
       "9996             3.5           3.0  Big Red IPA       6.0        54411  \n",
       "9997             3.5           3.5  Golden Hare       4.4        52239  \n",
       "9998             3.5           4.0          SPA       3.7        41647  \n",
       "9999             3.5           3.5    Wild Hare       5.0        34416  \n",
       "10000            4.0           4.5    Wild Hare       5.0        34416  "
      ]
     },
     "execution_count": 2,
     "metadata": {},
     "output_type": "execute_result"
    }
   ],
   "source": [
    "re_data = data.iloc[1:10001]\n",
    "re_data.tail()"
   ]
  },
  {
   "cell_type": "code",
   "execution_count": 3,
   "id": "5f635676",
   "metadata": {},
   "outputs": [
    {
     "data": {
      "text/html": [
       "<div>\n",
       "<style scoped>\n",
       "    .dataframe tbody tr th:only-of-type {\n",
       "        vertical-align: middle;\n",
       "    }\n",
       "\n",
       "    .dataframe tbody tr th {\n",
       "        vertical-align: top;\n",
       "    }\n",
       "\n",
       "    .dataframe thead th {\n",
       "        text-align: right;\n",
       "    }\n",
       "</style>\n",
       "<table border=\"1\" class=\"dataframe\">\n",
       "  <thead>\n",
       "    <tr style=\"text-align: right;\">\n",
       "      <th></th>\n",
       "      <th>review_overall</th>\n",
       "      <th>review_aroma</th>\n",
       "      <th>review_appearance</th>\n",
       "    </tr>\n",
       "  </thead>\n",
       "  <tbody>\n",
       "    <tr>\n",
       "      <th>1</th>\n",
       "      <td>3.0</td>\n",
       "      <td>2.5</td>\n",
       "      <td>3.0</td>\n",
       "    </tr>\n",
       "    <tr>\n",
       "      <th>2</th>\n",
       "      <td>3.0</td>\n",
       "      <td>2.5</td>\n",
       "      <td>3.0</td>\n",
       "    </tr>\n",
       "    <tr>\n",
       "      <th>3</th>\n",
       "      <td>3.0</td>\n",
       "      <td>3.0</td>\n",
       "      <td>3.5</td>\n",
       "    </tr>\n",
       "    <tr>\n",
       "      <th>4</th>\n",
       "      <td>4.0</td>\n",
       "      <td>4.5</td>\n",
       "      <td>4.0</td>\n",
       "    </tr>\n",
       "    <tr>\n",
       "      <th>5</th>\n",
       "      <td>3.0</td>\n",
       "      <td>3.5</td>\n",
       "      <td>3.5</td>\n",
       "    </tr>\n",
       "    <tr>\n",
       "      <th>...</th>\n",
       "      <td>...</td>\n",
       "      <td>...</td>\n",
       "      <td>...</td>\n",
       "    </tr>\n",
       "    <tr>\n",
       "      <th>9996</th>\n",
       "      <td>3.5</td>\n",
       "      <td>3.5</td>\n",
       "      <td>3.5</td>\n",
       "    </tr>\n",
       "    <tr>\n",
       "      <th>9997</th>\n",
       "      <td>3.5</td>\n",
       "      <td>3.5</td>\n",
       "      <td>3.5</td>\n",
       "    </tr>\n",
       "    <tr>\n",
       "      <th>9998</th>\n",
       "      <td>4.0</td>\n",
       "      <td>4.0</td>\n",
       "      <td>4.0</td>\n",
       "    </tr>\n",
       "    <tr>\n",
       "      <th>9999</th>\n",
       "      <td>3.5</td>\n",
       "      <td>4.0</td>\n",
       "      <td>4.5</td>\n",
       "    </tr>\n",
       "    <tr>\n",
       "      <th>10000</th>\n",
       "      <td>4.0</td>\n",
       "      <td>4.0</td>\n",
       "      <td>3.0</td>\n",
       "    </tr>\n",
       "  </tbody>\n",
       "</table>\n",
       "<p>10000 rows × 3 columns</p>\n",
       "</div>"
      ],
      "text/plain": [
       "       review_overall  review_aroma  review_appearance\n",
       "1                 3.0           2.5                3.0\n",
       "2                 3.0           2.5                3.0\n",
       "3                 3.0           3.0                3.5\n",
       "4                 4.0           4.5                4.0\n",
       "5                 3.0           3.5                3.5\n",
       "...               ...           ...                ...\n",
       "9996              3.5           3.5                3.5\n",
       "9997              3.5           3.5                3.5\n",
       "9998              4.0           4.0                4.0\n",
       "9999              3.5           4.0                4.5\n",
       "10000             4.0           4.0                3.0\n",
       "\n",
       "[10000 rows x 3 columns]"
      ]
     },
     "execution_count": 3,
     "metadata": {},
     "output_type": "execute_result"
    }
   ],
   "source": [
    "user_info = re_data.iloc[:,-7:-6]\n",
    "beer_info = re_data.iloc[:, -3:-2]\n",
    "rating_info = re_data.iloc[:, 3:6]\n",
    "user_info\n",
    "rating_info"
   ]
  },
  {
   "cell_type": "code",
   "execution_count": 4,
   "id": "f925dc16",
   "metadata": {
    "scrolled": true
   },
   "outputs": [
    {
     "data": {
      "text/html": [
       "<div>\n",
       "<style scoped>\n",
       "    .dataframe tbody tr th:only-of-type {\n",
       "        vertical-align: middle;\n",
       "    }\n",
       "\n",
       "    .dataframe tbody tr th {\n",
       "        vertical-align: top;\n",
       "    }\n",
       "\n",
       "    .dataframe thead th {\n",
       "        text-align: right;\n",
       "    }\n",
       "</style>\n",
       "<table border=\"1\" class=\"dataframe\">\n",
       "  <thead>\n",
       "    <tr style=\"text-align: right;\">\n",
       "      <th></th>\n",
       "      <th>review_profilename</th>\n",
       "      <th>beer_name</th>\n",
       "      <th>review_overall</th>\n",
       "      <th>review_aroma</th>\n",
       "      <th>review_appearance</th>\n",
       "    </tr>\n",
       "  </thead>\n",
       "  <tbody>\n",
       "    <tr>\n",
       "      <th>1</th>\n",
       "      <td>stcules</td>\n",
       "      <td>Red Moon</td>\n",
       "      <td>3.0</td>\n",
       "      <td>2.5</td>\n",
       "      <td>3.0</td>\n",
       "    </tr>\n",
       "    <tr>\n",
       "      <th>2</th>\n",
       "      <td>stcules</td>\n",
       "      <td>Black Horse Black Beer</td>\n",
       "      <td>3.0</td>\n",
       "      <td>2.5</td>\n",
       "      <td>3.0</td>\n",
       "    </tr>\n",
       "    <tr>\n",
       "      <th>3</th>\n",
       "      <td>stcules</td>\n",
       "      <td>Sausa Pils</td>\n",
       "      <td>3.0</td>\n",
       "      <td>3.0</td>\n",
       "      <td>3.5</td>\n",
       "    </tr>\n",
       "    <tr>\n",
       "      <th>4</th>\n",
       "      <td>johnmichaelsen</td>\n",
       "      <td>Cauldron DIPA</td>\n",
       "      <td>4.0</td>\n",
       "      <td>4.5</td>\n",
       "      <td>4.0</td>\n",
       "    </tr>\n",
       "    <tr>\n",
       "      <th>5</th>\n",
       "      <td>oline73</td>\n",
       "      <td>Caldera Ginger Beer</td>\n",
       "      <td>3.0</td>\n",
       "      <td>3.5</td>\n",
       "      <td>3.5</td>\n",
       "    </tr>\n",
       "  </tbody>\n",
       "</table>\n",
       "</div>"
      ],
      "text/plain": [
       "  review_profilename               beer_name  review_overall  review_aroma  \\\n",
       "1            stcules                Red Moon             3.0           2.5   \n",
       "2            stcules  Black Horse Black Beer             3.0           2.5   \n",
       "3            stcules              Sausa Pils             3.0           3.0   \n",
       "4     johnmichaelsen           Cauldron DIPA             4.0           4.5   \n",
       "5            oline73     Caldera Ginger Beer             3.0           3.5   \n",
       "\n",
       "   review_appearance  \n",
       "1                3.0  \n",
       "2                3.0  \n",
       "3                3.5  \n",
       "4                4.0  \n",
       "5                3.5  "
      ]
     },
     "execution_count": 4,
     "metadata": {},
     "output_type": "execute_result"
    }
   ],
   "source": [
    "concat_data = pd.concat([user_info, beer_info, rating_info], axis=1)\n",
    "concat_data.head()"
   ]
  },
  {
   "cell_type": "code",
   "execution_count": 5,
   "id": "39c63725",
   "metadata": {},
   "outputs": [
    {
     "data": {
      "text/plain": [
       "(945, 3192)"
      ]
     },
     "execution_count": 5,
     "metadata": {},
     "output_type": "execute_result"
    }
   ],
   "source": [
    "user_rating = concat_data.drop_duplicates(['beer_name', 'review_profilename'])\n",
    "user_rating.head()\n",
    "user_rating_pivot = user_rating.pivot(index='beer_name', columns='review_profilename', values='review_overall').fillna(0)\n",
    "user_rating_pivot.shape"
   ]
  },
  {
   "cell_type": "code",
   "execution_count": 6,
   "id": "681396fb",
   "metadata": {},
   "outputs": [
    {
     "data": {
      "text/plain": [
       "(945, 3192)"
      ]
     },
     "execution_count": 6,
     "metadata": {},
     "output_type": "execute_result"
    }
   ],
   "source": [
    "from scipy.sparse import csr_matrix\n",
    "user_rating_matrix = csr_matrix(user_rating_pivot.values)\n",
    "user_rating_matrix\n",
    "user_rating_pivot.shape"
   ]
  },
  {
   "cell_type": "code",
   "execution_count": 7,
   "id": "b85f4918",
   "metadata": {},
   "outputs": [
    {
     "data": {
      "text/html": [
       "<style>#sk-container-id-1 {color: black;background-color: white;}#sk-container-id-1 pre{padding: 0;}#sk-container-id-1 div.sk-toggleable {background-color: white;}#sk-container-id-1 label.sk-toggleable__label {cursor: pointer;display: block;width: 100%;margin-bottom: 0;padding: 0.3em;box-sizing: border-box;text-align: center;}#sk-container-id-1 label.sk-toggleable__label-arrow:before {content: \"▸\";float: left;margin-right: 0.25em;color: #696969;}#sk-container-id-1 label.sk-toggleable__label-arrow:hover:before {color: black;}#sk-container-id-1 div.sk-estimator:hover label.sk-toggleable__label-arrow:before {color: black;}#sk-container-id-1 div.sk-toggleable__content {max-height: 0;max-width: 0;overflow: hidden;text-align: left;background-color: #f0f8ff;}#sk-container-id-1 div.sk-toggleable__content pre {margin: 0.2em;color: black;border-radius: 0.25em;background-color: #f0f8ff;}#sk-container-id-1 input.sk-toggleable__control:checked~div.sk-toggleable__content {max-height: 200px;max-width: 100%;overflow: auto;}#sk-container-id-1 input.sk-toggleable__control:checked~label.sk-toggleable__label-arrow:before {content: \"▾\";}#sk-container-id-1 div.sk-estimator input.sk-toggleable__control:checked~label.sk-toggleable__label {background-color: #d4ebff;}#sk-container-id-1 div.sk-label input.sk-toggleable__control:checked~label.sk-toggleable__label {background-color: #d4ebff;}#sk-container-id-1 input.sk-hidden--visually {border: 0;clip: rect(1px 1px 1px 1px);clip: rect(1px, 1px, 1px, 1px);height: 1px;margin: -1px;overflow: hidden;padding: 0;position: absolute;width: 1px;}#sk-container-id-1 div.sk-estimator {font-family: monospace;background-color: #f0f8ff;border: 1px dotted black;border-radius: 0.25em;box-sizing: border-box;margin-bottom: 0.5em;}#sk-container-id-1 div.sk-estimator:hover {background-color: #d4ebff;}#sk-container-id-1 div.sk-parallel-item::after {content: \"\";width: 100%;border-bottom: 1px solid gray;flex-grow: 1;}#sk-container-id-1 div.sk-label:hover label.sk-toggleable__label {background-color: #d4ebff;}#sk-container-id-1 div.sk-serial::before {content: \"\";position: absolute;border-left: 1px solid gray;box-sizing: border-box;top: 0;bottom: 0;left: 50%;z-index: 0;}#sk-container-id-1 div.sk-serial {display: flex;flex-direction: column;align-items: center;background-color: white;padding-right: 0.2em;padding-left: 0.2em;position: relative;}#sk-container-id-1 div.sk-item {position: relative;z-index: 1;}#sk-container-id-1 div.sk-parallel {display: flex;align-items: stretch;justify-content: center;background-color: white;position: relative;}#sk-container-id-1 div.sk-item::before, #sk-container-id-1 div.sk-parallel-item::before {content: \"\";position: absolute;border-left: 1px solid gray;box-sizing: border-box;top: 0;bottom: 0;left: 50%;z-index: -1;}#sk-container-id-1 div.sk-parallel-item {display: flex;flex-direction: column;z-index: 1;position: relative;background-color: white;}#sk-container-id-1 div.sk-parallel-item:first-child::after {align-self: flex-end;width: 50%;}#sk-container-id-1 div.sk-parallel-item:last-child::after {align-self: flex-start;width: 50%;}#sk-container-id-1 div.sk-parallel-item:only-child::after {width: 0;}#sk-container-id-1 div.sk-dashed-wrapped {border: 1px dashed gray;margin: 0 0.4em 0.5em 0.4em;box-sizing: border-box;padding-bottom: 0.4em;background-color: white;}#sk-container-id-1 div.sk-label label {font-family: monospace;font-weight: bold;display: inline-block;line-height: 1.2em;}#sk-container-id-1 div.sk-label-container {text-align: center;}#sk-container-id-1 div.sk-container {/* jupyter's `normalize.less` sets `[hidden] { display: none; }` but bootstrap.min.css set `[hidden] { display: none !important; }` so we also need the `!important` here to be able to override the default hidden behavior on the sphinx rendered scikit-learn.org. See: https://github.com/scikit-learn/scikit-learn/issues/21755 */display: inline-block !important;position: relative;}#sk-container-id-1 div.sk-text-repr-fallback {display: none;}</style><div id=\"sk-container-id-1\" class=\"sk-top-container\"><div class=\"sk-text-repr-fallback\"><pre>NearestNeighbors(algorithm=&#x27;brute&#x27;, metric=&#x27;cosine&#x27;)</pre><b>In a Jupyter environment, please rerun this cell to show the HTML representation or trust the notebook. <br />On GitHub, the HTML representation is unable to render, please try loading this page with nbviewer.org.</b></div><div class=\"sk-container\" hidden><div class=\"sk-item\"><div class=\"sk-estimator sk-toggleable\"><input class=\"sk-toggleable__control sk-hidden--visually\" id=\"sk-estimator-id-1\" type=\"checkbox\" checked><label for=\"sk-estimator-id-1\" class=\"sk-toggleable__label sk-toggleable__label-arrow\">NearestNeighbors</label><div class=\"sk-toggleable__content\"><pre>NearestNeighbors(algorithm=&#x27;brute&#x27;, metric=&#x27;cosine&#x27;)</pre></div></div></div></div></div>"
      ],
      "text/plain": [
       "NearestNeighbors(algorithm='brute', metric='cosine')"
      ]
     },
     "execution_count": 7,
     "metadata": {},
     "output_type": "execute_result"
    }
   ],
   "source": [
    "from sklearn.neighbors import NearestNeighbors\n",
    "model_knn=NearestNeighbors(metric=\"cosine\",algorithm=\"brute\")\n",
    "model_knn.fit(user_rating_matrix)"
   ]
  },
  {
   "cell_type": "code",
   "execution_count": 8,
   "id": "00003079",
   "metadata": {},
   "outputs": [
    {
     "name": "stdout",
     "output_type": "stream",
     "text": [
      "review_profilename\n",
      "NaN         0.0\n",
      "05Harley    0.0\n",
      "1759Girl    0.0\n",
      "1Adam12     0.0\n",
      "1fastz28    0.0\n",
      "           ... \n",
      "zimm421     0.0\n",
      "zoolzoo     0.0\n",
      "zoso1967    0.0\n",
      "zrab11      0.0\n",
      "zuggy9      0.0\n",
      "Name: Pumpkin Ale, Length: 3192, dtype: float64\n"
     ]
    }
   ],
   "source": [
    "import numpy as np\n",
    "query_index = np.random.choice(user_rating_pivot.shape[0])\n",
    "print(user_rating_pivot.iloc[query_index,:])"
   ]
  },
  {
   "cell_type": "code",
   "execution_count": 9,
   "id": "7cc07509",
   "metadata": {},
   "outputs": [
    {
     "name": "stdout",
     "output_type": "stream",
     "text": [
      "Distances= [[0.        0.3548373 0.4178384 0.4178384 0.4178384 0.4178384]] Indices= [[672 691 586 213  16 928]]\n",
      "[0.        0.3548373 0.4178384 0.4178384 0.4178384 0.4178384]\n",
      "6\n",
      "recommendation for Pumpkin Ale:\n",
      "\n",
      "1: Red Bird Mild, with distacne of 0.35483729662537267:\n",
      "2: Nut Brown, with distacne of 0.41783839538216416:\n",
      "3: Centennial Pale Ale, with distacne of 0.41783839538216416:\n",
      "4: 2001 - A Stout Odyssey, with distacne of 0.41783839538216416:\n",
      "5: Winter Wheat, with distacne of 0.41783839538216416:\n"
     ]
    }
   ],
   "source": [
    "distances, indices = model_knn.kneighbors(user_rating_pivot.iloc[query_index,:].values.reshape(1, -1)\n",
    "                                         , n_neighbors=6)\n",
    "print('Distances=',distances, 'Indices=', indices)\n",
    "print(distances.flatten())\n",
    "print(len(distances.flatten()))\n",
    "\n",
    "for i in range(0, len(distances.flatten())):\n",
    "    if i == 0:\n",
    "        print('recommendation for {0}:\\n'.format(user_rating_pivot.index[query_index]))\n",
    "    else:\n",
    "        print('{0}: {1}, with distacne of {2}:'.format(i, user_rating_pivot.index[indices.flatten()[i]],\n",
    "                                                      distances.flatten()[i]) )"
   ]
  },
  {
   "cell_type": "code",
   "execution_count": null,
   "id": "2693b6ed",
   "metadata": {},
   "outputs": [],
   "source": []
  },
  {
   "cell_type": "code",
   "execution_count": 19,
   "id": "a141b39f",
   "metadata": {},
   "outputs": [
    {
     "data": {
      "text/plain": [
       "3192"
      ]
     },
     "execution_count": 19,
     "metadata": {},
     "output_type": "execute_result"
    }
   ],
   "source": [
    "len(set(user_rating['review_profilename']))"
   ]
  },
  {
   "cell_type": "code",
   "execution_count": 50,
   "id": "1ba2c761",
   "metadata": {},
   "outputs": [
    {
     "data": {
      "text/html": [
       "<div>\n",
       "<style scoped>\n",
       "    .dataframe tbody tr th:only-of-type {\n",
       "        vertical-align: middle;\n",
       "    }\n",
       "\n",
       "    .dataframe tbody tr th {\n",
       "        vertical-align: top;\n",
       "    }\n",
       "\n",
       "    .dataframe thead th {\n",
       "        text-align: right;\n",
       "    }\n",
       "</style>\n",
       "<table border=\"1\" class=\"dataframe\">\n",
       "  <thead>\n",
       "    <tr style=\"text-align: right;\">\n",
       "      <th>review_profilename</th>\n",
       "      <th>0</th>\n",
       "      <th>1</th>\n",
       "      <th>2</th>\n",
       "      <th>3</th>\n",
       "      <th>4</th>\n",
       "      <th>5</th>\n",
       "      <th>6</th>\n",
       "      <th>7</th>\n",
       "      <th>8</th>\n",
       "      <th>9</th>\n",
       "      <th>...</th>\n",
       "      <th>3182</th>\n",
       "      <th>3183</th>\n",
       "      <th>3184</th>\n",
       "      <th>3185</th>\n",
       "      <th>3186</th>\n",
       "      <th>3187</th>\n",
       "      <th>3188</th>\n",
       "      <th>3189</th>\n",
       "      <th>3190</th>\n",
       "      <th>3191</th>\n",
       "    </tr>\n",
       "    <tr>\n",
       "      <th>beer_name</th>\n",
       "      <th></th>\n",
       "      <th></th>\n",
       "      <th></th>\n",
       "      <th></th>\n",
       "      <th></th>\n",
       "      <th></th>\n",
       "      <th></th>\n",
       "      <th></th>\n",
       "      <th></th>\n",
       "      <th></th>\n",
       "      <th></th>\n",
       "      <th></th>\n",
       "      <th></th>\n",
       "      <th></th>\n",
       "      <th></th>\n",
       "      <th></th>\n",
       "      <th></th>\n",
       "      <th></th>\n",
       "      <th></th>\n",
       "      <th></th>\n",
       "      <th></th>\n",
       "    </tr>\n",
       "  </thead>\n",
       "  <tbody>\n",
       "    <tr>\n",
       "      <th>0</th>\n",
       "      <td>0.0</td>\n",
       "      <td>0.0</td>\n",
       "      <td>0.0</td>\n",
       "      <td>0.0</td>\n",
       "      <td>0.0</td>\n",
       "      <td>0.0</td>\n",
       "      <td>0.0</td>\n",
       "      <td>0.0</td>\n",
       "      <td>0.0</td>\n",
       "      <td>0.0</td>\n",
       "      <td>...</td>\n",
       "      <td>0.0</td>\n",
       "      <td>0.0</td>\n",
       "      <td>0.0</td>\n",
       "      <td>0.0</td>\n",
       "      <td>0.0</td>\n",
       "      <td>0.0</td>\n",
       "      <td>0.0</td>\n",
       "      <td>0.0</td>\n",
       "      <td>0.0</td>\n",
       "      <td>0.0</td>\n",
       "    </tr>\n",
       "    <tr>\n",
       "      <th>1</th>\n",
       "      <td>0.0</td>\n",
       "      <td>0.0</td>\n",
       "      <td>0.0</td>\n",
       "      <td>0.0</td>\n",
       "      <td>0.0</td>\n",
       "      <td>0.0</td>\n",
       "      <td>0.0</td>\n",
       "      <td>0.0</td>\n",
       "      <td>0.0</td>\n",
       "      <td>0.0</td>\n",
       "      <td>...</td>\n",
       "      <td>0.0</td>\n",
       "      <td>0.0</td>\n",
       "      <td>0.0</td>\n",
       "      <td>0.0</td>\n",
       "      <td>0.0</td>\n",
       "      <td>0.0</td>\n",
       "      <td>0.0</td>\n",
       "      <td>0.0</td>\n",
       "      <td>0.0</td>\n",
       "      <td>0.0</td>\n",
       "    </tr>\n",
       "    <tr>\n",
       "      <th>2</th>\n",
       "      <td>0.0</td>\n",
       "      <td>0.0</td>\n",
       "      <td>0.0</td>\n",
       "      <td>0.0</td>\n",
       "      <td>0.0</td>\n",
       "      <td>0.0</td>\n",
       "      <td>0.0</td>\n",
       "      <td>0.0</td>\n",
       "      <td>0.0</td>\n",
       "      <td>0.0</td>\n",
       "      <td>...</td>\n",
       "      <td>0.0</td>\n",
       "      <td>0.0</td>\n",
       "      <td>0.0</td>\n",
       "      <td>0.0</td>\n",
       "      <td>0.0</td>\n",
       "      <td>0.0</td>\n",
       "      <td>0.0</td>\n",
       "      <td>0.0</td>\n",
       "      <td>0.0</td>\n",
       "      <td>0.0</td>\n",
       "    </tr>\n",
       "    <tr>\n",
       "      <th>3</th>\n",
       "      <td>0.0</td>\n",
       "      <td>0.0</td>\n",
       "      <td>0.0</td>\n",
       "      <td>0.0</td>\n",
       "      <td>0.0</td>\n",
       "      <td>0.0</td>\n",
       "      <td>0.0</td>\n",
       "      <td>0.0</td>\n",
       "      <td>0.0</td>\n",
       "      <td>0.0</td>\n",
       "      <td>...</td>\n",
       "      <td>0.0</td>\n",
       "      <td>0.0</td>\n",
       "      <td>0.0</td>\n",
       "      <td>0.0</td>\n",
       "      <td>0.0</td>\n",
       "      <td>0.0</td>\n",
       "      <td>0.0</td>\n",
       "      <td>0.0</td>\n",
       "      <td>0.0</td>\n",
       "      <td>0.0</td>\n",
       "    </tr>\n",
       "    <tr>\n",
       "      <th>4</th>\n",
       "      <td>0.0</td>\n",
       "      <td>0.0</td>\n",
       "      <td>0.0</td>\n",
       "      <td>0.0</td>\n",
       "      <td>0.0</td>\n",
       "      <td>0.0</td>\n",
       "      <td>0.0</td>\n",
       "      <td>0.0</td>\n",
       "      <td>0.0</td>\n",
       "      <td>0.0</td>\n",
       "      <td>...</td>\n",
       "      <td>0.0</td>\n",
       "      <td>0.0</td>\n",
       "      <td>0.0</td>\n",
       "      <td>0.0</td>\n",
       "      <td>0.0</td>\n",
       "      <td>0.0</td>\n",
       "      <td>0.0</td>\n",
       "      <td>0.0</td>\n",
       "      <td>0.0</td>\n",
       "      <td>0.0</td>\n",
       "    </tr>\n",
       "    <tr>\n",
       "      <th>...</th>\n",
       "      <td>...</td>\n",
       "      <td>...</td>\n",
       "      <td>...</td>\n",
       "      <td>...</td>\n",
       "      <td>...</td>\n",
       "      <td>...</td>\n",
       "      <td>...</td>\n",
       "      <td>...</td>\n",
       "      <td>...</td>\n",
       "      <td>...</td>\n",
       "      <td>...</td>\n",
       "      <td>...</td>\n",
       "      <td>...</td>\n",
       "      <td>...</td>\n",
       "      <td>...</td>\n",
       "      <td>...</td>\n",
       "      <td>...</td>\n",
       "      <td>...</td>\n",
       "      <td>...</td>\n",
       "      <td>...</td>\n",
       "      <td>...</td>\n",
       "    </tr>\n",
       "    <tr>\n",
       "      <th>940</th>\n",
       "      <td>0.0</td>\n",
       "      <td>0.0</td>\n",
       "      <td>0.0</td>\n",
       "      <td>0.0</td>\n",
       "      <td>0.0</td>\n",
       "      <td>0.0</td>\n",
       "      <td>0.0</td>\n",
       "      <td>0.0</td>\n",
       "      <td>0.0</td>\n",
       "      <td>0.0</td>\n",
       "      <td>...</td>\n",
       "      <td>0.0</td>\n",
       "      <td>0.0</td>\n",
       "      <td>0.0</td>\n",
       "      <td>0.0</td>\n",
       "      <td>0.0</td>\n",
       "      <td>0.0</td>\n",
       "      <td>0.0</td>\n",
       "      <td>0.0</td>\n",
       "      <td>0.0</td>\n",
       "      <td>0.0</td>\n",
       "    </tr>\n",
       "    <tr>\n",
       "      <th>941</th>\n",
       "      <td>0.0</td>\n",
       "      <td>0.0</td>\n",
       "      <td>0.0</td>\n",
       "      <td>0.0</td>\n",
       "      <td>0.0</td>\n",
       "      <td>0.0</td>\n",
       "      <td>0.0</td>\n",
       "      <td>0.0</td>\n",
       "      <td>0.0</td>\n",
       "      <td>0.0</td>\n",
       "      <td>...</td>\n",
       "      <td>0.0</td>\n",
       "      <td>0.0</td>\n",
       "      <td>0.0</td>\n",
       "      <td>0.0</td>\n",
       "      <td>0.0</td>\n",
       "      <td>0.0</td>\n",
       "      <td>0.0</td>\n",
       "      <td>0.0</td>\n",
       "      <td>0.0</td>\n",
       "      <td>0.0</td>\n",
       "    </tr>\n",
       "    <tr>\n",
       "      <th>942</th>\n",
       "      <td>0.0</td>\n",
       "      <td>0.0</td>\n",
       "      <td>0.0</td>\n",
       "      <td>0.0</td>\n",
       "      <td>0.0</td>\n",
       "      <td>0.0</td>\n",
       "      <td>0.0</td>\n",
       "      <td>0.0</td>\n",
       "      <td>0.0</td>\n",
       "      <td>0.0</td>\n",
       "      <td>...</td>\n",
       "      <td>0.0</td>\n",
       "      <td>0.0</td>\n",
       "      <td>0.0</td>\n",
       "      <td>0.0</td>\n",
       "      <td>0.0</td>\n",
       "      <td>0.0</td>\n",
       "      <td>0.0</td>\n",
       "      <td>0.0</td>\n",
       "      <td>0.0</td>\n",
       "      <td>0.0</td>\n",
       "    </tr>\n",
       "    <tr>\n",
       "      <th>943</th>\n",
       "      <td>0.0</td>\n",
       "      <td>0.0</td>\n",
       "      <td>0.0</td>\n",
       "      <td>0.0</td>\n",
       "      <td>0.0</td>\n",
       "      <td>0.0</td>\n",
       "      <td>0.0</td>\n",
       "      <td>0.0</td>\n",
       "      <td>0.0</td>\n",
       "      <td>0.0</td>\n",
       "      <td>...</td>\n",
       "      <td>0.0</td>\n",
       "      <td>0.0</td>\n",
       "      <td>0.0</td>\n",
       "      <td>0.0</td>\n",
       "      <td>0.0</td>\n",
       "      <td>0.0</td>\n",
       "      <td>0.0</td>\n",
       "      <td>0.0</td>\n",
       "      <td>0.0</td>\n",
       "      <td>0.0</td>\n",
       "    </tr>\n",
       "    <tr>\n",
       "      <th>944</th>\n",
       "      <td>0.0</td>\n",
       "      <td>0.0</td>\n",
       "      <td>0.0</td>\n",
       "      <td>0.0</td>\n",
       "      <td>0.0</td>\n",
       "      <td>0.0</td>\n",
       "      <td>0.0</td>\n",
       "      <td>0.0</td>\n",
       "      <td>0.0</td>\n",
       "      <td>0.0</td>\n",
       "      <td>...</td>\n",
       "      <td>0.0</td>\n",
       "      <td>0.0</td>\n",
       "      <td>0.0</td>\n",
       "      <td>0.0</td>\n",
       "      <td>0.0</td>\n",
       "      <td>0.0</td>\n",
       "      <td>0.0</td>\n",
       "      <td>0.0</td>\n",
       "      <td>0.0</td>\n",
       "      <td>0.0</td>\n",
       "    </tr>\n",
       "  </tbody>\n",
       "</table>\n",
       "<p>945 rows × 3192 columns</p>\n",
       "</div>"
      ],
      "text/plain": [
       "review_profilename  0     1     2     3     4     5     6     7     8     \\\n",
       "beer_name                                                                  \n",
       "0                    0.0   0.0   0.0   0.0   0.0   0.0   0.0   0.0   0.0   \n",
       "1                    0.0   0.0   0.0   0.0   0.0   0.0   0.0   0.0   0.0   \n",
       "2                    0.0   0.0   0.0   0.0   0.0   0.0   0.0   0.0   0.0   \n",
       "3                    0.0   0.0   0.0   0.0   0.0   0.0   0.0   0.0   0.0   \n",
       "4                    0.0   0.0   0.0   0.0   0.0   0.0   0.0   0.0   0.0   \n",
       "...                  ...   ...   ...   ...   ...   ...   ...   ...   ...   \n",
       "940                  0.0   0.0   0.0   0.0   0.0   0.0   0.0   0.0   0.0   \n",
       "941                  0.0   0.0   0.0   0.0   0.0   0.0   0.0   0.0   0.0   \n",
       "942                  0.0   0.0   0.0   0.0   0.0   0.0   0.0   0.0   0.0   \n",
       "943                  0.0   0.0   0.0   0.0   0.0   0.0   0.0   0.0   0.0   \n",
       "944                  0.0   0.0   0.0   0.0   0.0   0.0   0.0   0.0   0.0   \n",
       "\n",
       "review_profilename  9     ...  3182  3183  3184  3185  3186  3187  3188  3189  \\\n",
       "beer_name                 ...                                                   \n",
       "0                    0.0  ...   0.0   0.0   0.0   0.0   0.0   0.0   0.0   0.0   \n",
       "1                    0.0  ...   0.0   0.0   0.0   0.0   0.0   0.0   0.0   0.0   \n",
       "2                    0.0  ...   0.0   0.0   0.0   0.0   0.0   0.0   0.0   0.0   \n",
       "3                    0.0  ...   0.0   0.0   0.0   0.0   0.0   0.0   0.0   0.0   \n",
       "4                    0.0  ...   0.0   0.0   0.0   0.0   0.0   0.0   0.0   0.0   \n",
       "...                  ...  ...   ...   ...   ...   ...   ...   ...   ...   ...   \n",
       "940                  0.0  ...   0.0   0.0   0.0   0.0   0.0   0.0   0.0   0.0   \n",
       "941                  0.0  ...   0.0   0.0   0.0   0.0   0.0   0.0   0.0   0.0   \n",
       "942                  0.0  ...   0.0   0.0   0.0   0.0   0.0   0.0   0.0   0.0   \n",
       "943                  0.0  ...   0.0   0.0   0.0   0.0   0.0   0.0   0.0   0.0   \n",
       "944                  0.0  ...   0.0   0.0   0.0   0.0   0.0   0.0   0.0   0.0   \n",
       "\n",
       "review_profilename  3190  3191  \n",
       "beer_name                       \n",
       "0                    0.0   0.0  \n",
       "1                    0.0   0.0  \n",
       "2                    0.0   0.0  \n",
       "3                    0.0   0.0  \n",
       "4                    0.0   0.0  \n",
       "...                  ...   ...  \n",
       "940                  0.0   0.0  \n",
       "941                  0.0   0.0  \n",
       "942                  0.0   0.0  \n",
       "943                  0.0   0.0  \n",
       "944                  0.0   0.0  \n",
       "\n",
       "[945 rows x 3192 columns]"
      ]
     },
     "execution_count": 50,
     "metadata": {},
     "output_type": "execute_result"
    }
   ],
   "source": [
    "dff_pivot"
   ]
  },
  {
   "cell_type": "code",
   "execution_count": 21,
   "id": "4aaabeae",
   "metadata": {},
   "outputs": [],
   "source": [
    "label_list = []\n",
    "for label in set(user_rating['review_profilename']):\n",
    "    label_list.append(label)"
   ]
  },
  {
   "cell_type": "code",
   "execution_count": 28,
   "id": "b5de56d4",
   "metadata": {},
   "outputs": [
    {
     "data": {
      "text/plain": [
       "[1               stcules\n",
       " 2               stcules\n",
       " 3               stcules\n",
       " 4        johnmichaelsen\n",
       " 5               oline73\n",
       "               ...      \n",
       " 9996             jdense\n",
       " 9997                AEK\n",
       " 9998             wl0307\n",
       " 9999          fullsweep\n",
       " 10000      BlackHaddock\n",
       " Name: review_profilename, Length: 9932, dtype: object]"
      ]
     },
     "execution_count": 28,
     "metadata": {},
     "output_type": "execute_result"
    }
   ],
   "source": [
    "[user_rating['review_profilename']]"
   ]
  },
  {
   "cell_type": "code",
   "execution_count": 29,
   "id": "c681c22c",
   "metadata": {},
   "outputs": [
    {
     "data": {
      "text/plain": [
       "array([2541, 2809, 1461, ...,  803, 1882, 1087])"
      ]
     },
     "execution_count": 29,
     "metadata": {},
     "output_type": "execute_result"
    }
   ],
   "source": [
    "from sklearn.preprocessing import LabelEncoder\n",
    "item_label = label_list\n",
    "encoder = LabelEncoder()\n",
    "encoder.fit(item_label)\n",
    "digital_label = encoder.transform(item_label)\n",
    "digital_label"
   ]
  },
  {
   "cell_type": "code",
   "execution_count": 31,
   "id": "596add38",
   "metadata": {},
   "outputs": [
    {
     "data": {
      "text/plain": [
       "<map at 0x7f2499d3f940>"
      ]
     },
     "execution_count": 31,
     "metadata": {},
     "output_type": "execute_result"
    }
   ],
   "source": [
    "map(user_rating['review_profilename'], digital_label)"
   ]
  },
  {
   "cell_type": "code",
   "execution_count": 38,
   "id": "339dbc10",
   "metadata": {},
   "outputs": [
    {
     "name": "stdout",
     "output_type": "stream",
     "text": [
      "[2913 2913 2913 ... 3136 2015  193]\n"
     ]
    },
    {
     "data": {
      "text/plain": [
       "array([695, 123, 747, ..., 733, 924, 924])"
      ]
     },
     "execution_count": 38,
     "metadata": {},
     "output_type": "execute_result"
    }
   ],
   "source": [
    "le = LabelEncoder()\n",
    "result = le.fit_transform(user_rating['review_profilename'])\n",
    "result_b = le.fit_transform(user_rating['beer_name'])\n",
    "print(result)\n",
    "result_b"
   ]
  },
  {
   "cell_type": "code",
   "execution_count": null,
   "id": "35bb1185",
   "metadata": {},
   "outputs": [],
   "source": []
  },
  {
   "cell_type": "code",
   "execution_count": 59,
   "id": "0975bf12",
   "metadata": {},
   "outputs": [],
   "source": [
    "con = {\n",
    "    'user':result,\n",
    "    'item':result_b,\n",
    "    'review_overall':user_rating['review_overall'],\n",
    "    'review_aroma': user_rating['review_aroma'],\n",
    "    'review_appearance':user_rating['review_appearance']\n",
    "}"
   ]
  },
  {
   "cell_type": "code",
   "execution_count": 64,
   "id": "bba03d8b",
   "metadata": {},
   "outputs": [],
   "source": [
    "con = {\n",
    "    'user':result,\n",
    "    'item':result_b,\n",
    "    'raw_ratings':user_rating['review_overall'],\n",
    "}"
   ]
  },
  {
   "cell_type": "code",
   "execution_count": 61,
   "id": "193d7880",
   "metadata": {},
   "outputs": [],
   "source": [
    "dff = pd.DataFrame(con, columns = ['user', 'item', 'review_overall',\n",
    "                                  'review_aroma', 'review_appearance'])"
   ]
  },
  {
   "cell_type": "code",
   "execution_count": 65,
   "id": "66e08349",
   "metadata": {},
   "outputs": [],
   "source": [
    "dff = pd.DataFrame(con, columns = ['user', 'item', 'raw_ratings'])"
   ]
  },
  {
   "cell_type": "code",
   "execution_count": 76,
   "id": "32dbf212",
   "metadata": {},
   "outputs": [],
   "source": [
    "dff = dff.fillna(0)\n",
    "dff.shape\n",
    "dff = dff.iloc[0:7001]"
   ]
  },
  {
   "cell_type": "code",
   "execution_count": 84,
   "id": "c0a07d2a",
   "metadata": {},
   "outputs": [
    {
     "data": {
      "text/plain": [
       "6183    3.5\n",
       "Name: raw_ratings, dtype: float64"
      ]
     },
     "execution_count": 84,
     "metadata": {},
     "output_type": "execute_result"
    }
   ],
   "source": [
    "dff.raw_ratings[6163:6164]"
   ]
  },
  {
   "cell_type": "code",
   "execution_count": null,
   "id": "b48f86c6",
   "metadata": {},
   "outputs": [],
   "source": []
  },
  {
   "cell_type": "code",
   "execution_count": 85,
   "id": "4a2902ee",
   "metadata": {},
   "outputs": [
    {
     "ename": "KeyError",
     "evalue": "6163",
     "output_type": "error",
     "traceback": [
      "\u001b[0;31m---------------------------------------------------------------------------\u001b[0m",
      "\u001b[0;31mKeyError\u001b[0m                                  Traceback (most recent call last)",
      "File \u001b[0;32m~/anaconda3/envs/ball/lib/python3.9/site-packages/pandas/core/indexes/base.py:3621\u001b[0m, in \u001b[0;36mIndex.get_loc\u001b[0;34m(self, key, method, tolerance)\u001b[0m\n\u001b[1;32m   3620\u001b[0m \u001b[38;5;28;01mtry\u001b[39;00m:\n\u001b[0;32m-> 3621\u001b[0m     \u001b[38;5;28;01mreturn\u001b[39;00m \u001b[38;5;28;43mself\u001b[39;49m\u001b[38;5;241;43m.\u001b[39;49m\u001b[43m_engine\u001b[49m\u001b[38;5;241;43m.\u001b[39;49m\u001b[43mget_loc\u001b[49m\u001b[43m(\u001b[49m\u001b[43mcasted_key\u001b[49m\u001b[43m)\u001b[49m\n\u001b[1;32m   3622\u001b[0m \u001b[38;5;28;01mexcept\u001b[39;00m \u001b[38;5;167;01mKeyError\u001b[39;00m \u001b[38;5;28;01mas\u001b[39;00m err:\n",
      "File \u001b[0;32m~/anaconda3/envs/ball/lib/python3.9/site-packages/pandas/_libs/index.pyx:136\u001b[0m, in \u001b[0;36mpandas._libs.index.IndexEngine.get_loc\u001b[0;34m()\u001b[0m\n",
      "File \u001b[0;32m~/anaconda3/envs/ball/lib/python3.9/site-packages/pandas/_libs/index.pyx:163\u001b[0m, in \u001b[0;36mpandas._libs.index.IndexEngine.get_loc\u001b[0;34m()\u001b[0m\n",
      "File \u001b[0;32mpandas/_libs/hashtable_class_helper.pxi:2131\u001b[0m, in \u001b[0;36mpandas._libs.hashtable.Int64HashTable.get_item\u001b[0;34m()\u001b[0m\n",
      "File \u001b[0;32mpandas/_libs/hashtable_class_helper.pxi:2140\u001b[0m, in \u001b[0;36mpandas._libs.hashtable.Int64HashTable.get_item\u001b[0;34m()\u001b[0m\n",
      "\u001b[0;31mKeyError\u001b[0m: 6163",
      "\nThe above exception was the direct cause of the following exception:\n",
      "\u001b[0;31mKeyError\u001b[0m                                  Traceback (most recent call last)",
      "Input \u001b[0;32mIn [85]\u001b[0m, in \u001b[0;36m<cell line: 15>\u001b[0;34m()\u001b[0m\n\u001b[1;32m     13\u001b[0m acc \u001b[38;5;241m=\u001b[39m np\u001b[38;5;241m.\u001b[39mzeros(\u001b[38;5;241m3\u001b[39m)\n\u001b[1;32m     14\u001b[0m cv \u001b[38;5;241m=\u001b[39m KFold(\u001b[38;5;241m3\u001b[39m)\n\u001b[0;32m---> 15\u001b[0m \u001b[38;5;28;01mfor\u001b[39;00m i, (trainset, testset) \u001b[38;5;129;01min\u001b[39;00m \u001b[38;5;28menumerate\u001b[39m(cv\u001b[38;5;241m.\u001b[39msplit(dff)):\n\u001b[1;32m     16\u001b[0m     algo\u001b[38;5;241m.\u001b[39mfit(trainset)\n\u001b[1;32m     17\u001b[0m     predictions \u001b[38;5;241m=\u001b[39m algo\u001b[38;5;241m.\u001b[39mtest(testset)\n",
      "File \u001b[0;32m~/anaconda3/envs/ball/lib/python3.9/site-packages/surprise/model_selection/split.py:112\u001b[0m, in \u001b[0;36mKFold.split\u001b[0;34m(self, data)\u001b[0m\n\u001b[1;32m    109\u001b[0m \u001b[38;5;28;01mif\u001b[39;00m fold_i \u001b[38;5;241m<\u001b[39m \u001b[38;5;28mlen\u001b[39m(indices) \u001b[38;5;241m%\u001b[39m \u001b[38;5;28mself\u001b[39m\u001b[38;5;241m.\u001b[39mn_splits:\n\u001b[1;32m    110\u001b[0m     stop \u001b[38;5;241m+\u001b[39m\u001b[38;5;241m=\u001b[39m \u001b[38;5;241m1\u001b[39m\n\u001b[0;32m--> 112\u001b[0m raw_trainset \u001b[38;5;241m=\u001b[39m [\n\u001b[1;32m    113\u001b[0m     data\u001b[38;5;241m.\u001b[39mraw_ratings[i] \u001b[38;5;28;01mfor\u001b[39;00m i \u001b[38;5;129;01min\u001b[39;00m chain(indices[:start], indices[stop:])\n\u001b[1;32m    114\u001b[0m ]\n\u001b[1;32m    115\u001b[0m raw_testset \u001b[38;5;241m=\u001b[39m [data\u001b[38;5;241m.\u001b[39mraw_ratings[i] \u001b[38;5;28;01mfor\u001b[39;00m i \u001b[38;5;129;01min\u001b[39;00m indices[start:stop]]\n\u001b[1;32m    117\u001b[0m trainset \u001b[38;5;241m=\u001b[39m data\u001b[38;5;241m.\u001b[39mconstruct_trainset(raw_trainset)\n",
      "File \u001b[0;32m~/anaconda3/envs/ball/lib/python3.9/site-packages/surprise/model_selection/split.py:113\u001b[0m, in \u001b[0;36m<listcomp>\u001b[0;34m(.0)\u001b[0m\n\u001b[1;32m    109\u001b[0m \u001b[38;5;28;01mif\u001b[39;00m fold_i \u001b[38;5;241m<\u001b[39m \u001b[38;5;28mlen\u001b[39m(indices) \u001b[38;5;241m%\u001b[39m \u001b[38;5;28mself\u001b[39m\u001b[38;5;241m.\u001b[39mn_splits:\n\u001b[1;32m    110\u001b[0m     stop \u001b[38;5;241m+\u001b[39m\u001b[38;5;241m=\u001b[39m \u001b[38;5;241m1\u001b[39m\n\u001b[1;32m    112\u001b[0m raw_trainset \u001b[38;5;241m=\u001b[39m [\n\u001b[0;32m--> 113\u001b[0m     \u001b[43mdata\u001b[49m\u001b[38;5;241;43m.\u001b[39;49m\u001b[43mraw_ratings\u001b[49m\u001b[43m[\u001b[49m\u001b[43mi\u001b[49m\u001b[43m]\u001b[49m \u001b[38;5;28;01mfor\u001b[39;00m i \u001b[38;5;129;01min\u001b[39;00m chain(indices[:start], indices[stop:])\n\u001b[1;32m    114\u001b[0m ]\n\u001b[1;32m    115\u001b[0m raw_testset \u001b[38;5;241m=\u001b[39m [data\u001b[38;5;241m.\u001b[39mraw_ratings[i] \u001b[38;5;28;01mfor\u001b[39;00m i \u001b[38;5;129;01min\u001b[39;00m indices[start:stop]]\n\u001b[1;32m    117\u001b[0m trainset \u001b[38;5;241m=\u001b[39m data\u001b[38;5;241m.\u001b[39mconstruct_trainset(raw_trainset)\n",
      "File \u001b[0;32m~/anaconda3/envs/ball/lib/python3.9/site-packages/pandas/core/series.py:958\u001b[0m, in \u001b[0;36mSeries.__getitem__\u001b[0;34m(self, key)\u001b[0m\n\u001b[1;32m    955\u001b[0m     \u001b[38;5;28;01mreturn\u001b[39;00m \u001b[38;5;28mself\u001b[39m\u001b[38;5;241m.\u001b[39m_values[key]\n\u001b[1;32m    957\u001b[0m \u001b[38;5;28;01melif\u001b[39;00m key_is_scalar:\n\u001b[0;32m--> 958\u001b[0m     \u001b[38;5;28;01mreturn\u001b[39;00m \u001b[38;5;28;43mself\u001b[39;49m\u001b[38;5;241;43m.\u001b[39;49m\u001b[43m_get_value\u001b[49m\u001b[43m(\u001b[49m\u001b[43mkey\u001b[49m\u001b[43m)\u001b[49m\n\u001b[1;32m    960\u001b[0m \u001b[38;5;28;01mif\u001b[39;00m is_hashable(key):\n\u001b[1;32m    961\u001b[0m     \u001b[38;5;66;03m# Otherwise index.get_value will raise InvalidIndexError\u001b[39;00m\n\u001b[1;32m    962\u001b[0m     \u001b[38;5;28;01mtry\u001b[39;00m:\n\u001b[1;32m    963\u001b[0m         \u001b[38;5;66;03m# For labels that don't resolve as scalars like tuples and frozensets\u001b[39;00m\n",
      "File \u001b[0;32m~/anaconda3/envs/ball/lib/python3.9/site-packages/pandas/core/series.py:1069\u001b[0m, in \u001b[0;36mSeries._get_value\u001b[0;34m(self, label, takeable)\u001b[0m\n\u001b[1;32m   1066\u001b[0m     \u001b[38;5;28;01mreturn\u001b[39;00m \u001b[38;5;28mself\u001b[39m\u001b[38;5;241m.\u001b[39m_values[label]\n\u001b[1;32m   1068\u001b[0m \u001b[38;5;66;03m# Similar to Index.get_value, but we do not fall back to positional\u001b[39;00m\n\u001b[0;32m-> 1069\u001b[0m loc \u001b[38;5;241m=\u001b[39m \u001b[38;5;28;43mself\u001b[39;49m\u001b[38;5;241;43m.\u001b[39;49m\u001b[43mindex\u001b[49m\u001b[38;5;241;43m.\u001b[39;49m\u001b[43mget_loc\u001b[49m\u001b[43m(\u001b[49m\u001b[43mlabel\u001b[49m\u001b[43m)\u001b[49m\n\u001b[1;32m   1070\u001b[0m \u001b[38;5;28;01mreturn\u001b[39;00m \u001b[38;5;28mself\u001b[39m\u001b[38;5;241m.\u001b[39mindex\u001b[38;5;241m.\u001b[39m_get_values_for_loc(\u001b[38;5;28mself\u001b[39m, loc, label)\n",
      "File \u001b[0;32m~/anaconda3/envs/ball/lib/python3.9/site-packages/pandas/core/indexes/base.py:3623\u001b[0m, in \u001b[0;36mIndex.get_loc\u001b[0;34m(self, key, method, tolerance)\u001b[0m\n\u001b[1;32m   3621\u001b[0m     \u001b[38;5;28;01mreturn\u001b[39;00m \u001b[38;5;28mself\u001b[39m\u001b[38;5;241m.\u001b[39m_engine\u001b[38;5;241m.\u001b[39mget_loc(casted_key)\n\u001b[1;32m   3622\u001b[0m \u001b[38;5;28;01mexcept\u001b[39;00m \u001b[38;5;167;01mKeyError\u001b[39;00m \u001b[38;5;28;01mas\u001b[39;00m err:\n\u001b[0;32m-> 3623\u001b[0m     \u001b[38;5;28;01mraise\u001b[39;00m \u001b[38;5;167;01mKeyError\u001b[39;00m(key) \u001b[38;5;28;01mfrom\u001b[39;00m \u001b[38;5;21;01merr\u001b[39;00m\n\u001b[1;32m   3624\u001b[0m \u001b[38;5;28;01mexcept\u001b[39;00m \u001b[38;5;167;01mTypeError\u001b[39;00m:\n\u001b[1;32m   3625\u001b[0m     \u001b[38;5;66;03m# If we have a listlike key, _check_indexing_error will raise\u001b[39;00m\n\u001b[1;32m   3626\u001b[0m     \u001b[38;5;66;03m#  InvalidIndexError. Otherwise we fall through and re-raise\u001b[39;00m\n\u001b[1;32m   3627\u001b[0m     \u001b[38;5;66;03m#  the TypeError.\u001b[39;00m\n\u001b[1;32m   3628\u001b[0m     \u001b[38;5;28mself\u001b[39m\u001b[38;5;241m.\u001b[39m_check_indexing_error(key)\n",
      "\u001b[0;31mKeyError\u001b[0m: 6163"
     ]
    }
   ],
   "source": [
    "import surprise\n",
    "from surprise.model_selection import KFold\n",
    "\n",
    "bsl_options = {\n",
    "    'method': 'als',\n",
    "    'n_epochs': 5,\n",
    "    'reg_u': 12,\n",
    "    'reg_i': 5\n",
    "}\n",
    "algo = surprise.BaselineOnly(bsl_options)\n",
    "\n",
    "np.random.seed(0)\n",
    "acc = np.zeros(3)\n",
    "cv = KFold(3)\n",
    "for i, (trainset, testset) in enumerate(cv.split(dff)):\n",
    "    algo.fit(trainset)\n",
    "    predictions = algo.test(testset)\n",
    "    acc[i] = surprise.accuracy.rmse(predictions, verbose=True)\n",
    "acc.mean()"
   ]
  },
  {
   "cell_type": "code",
   "execution_count": null,
   "id": "e8c67303",
   "metadata": {},
   "outputs": [],
   "source": []
  },
  {
   "cell_type": "code",
   "execution_count": null,
   "id": "4617a4b9",
   "metadata": {},
   "outputs": [],
   "source": []
  },
  {
   "cell_type": "code",
   "execution_count": 114,
   "id": "0f49c8a6",
   "metadata": {},
   "outputs": [],
   "source": [
    "from tqdm import trange\n",
    "\n",
    "class gd:\n",
    "    def __init__(self, sparse_matrix, K, lr, beta, n_epochs):\n",
    "        \"\"\"\n",
    "        Arguments\n",
    "        - sparse_matrix : user-item rating matrix\n",
    "        - K (int)       : number of latent dimensions\n",
    "        - lr (float) : learning rate\n",
    "        - beta (float)  : regularization parameter\n",
    "        - n_epochs (int) : Num of Iteration\n",
    "        \"\"\"\n",
    "        # convert ndArray\n",
    "        self.sparse_matrix = sparse_matrix.fillna(0).to_numpy()\n",
    "        self.item_n, self.user_n = sparse_matrix.shape\n",
    "        self.K = K\n",
    "        self.lr = lr\n",
    "        self.beta = beta\n",
    "        self.n_epochs = n_epochs\n",
    "        \n",
    "    def evaluate(self):\n",
    "        #idx, jdx = self.sparse_matrix.to_numpy().nonzero()\n",
    "        idx, jdx = self.sparse_matrix.nonzero()\n",
    "        ys, preds = [], []\n",
    "        print(idx, jdx)\n",
    "        for i, j in zip(idx, jdx): # Item i에 대한 User j의 평가\n",
    "            ys.append(self.sparse_matrix.iloc[i, j]) # 원본행렬\n",
    "            preds.append(self.pred_matrix.iloc[i, j]) # 예측행렬\n",
    "\n",
    "        error = mean_squared_error(ys, preds)\n",
    "        return np.sqrt(error)\n",
    "        \n",
    "    def train(self):\n",
    "        #Initialize user and item latent feature matrice\n",
    "        self.I = np.random.normal(scale=1./self.K, size=(self.item_n, self.K))\n",
    "        self.U = np.random.normal(scale=1./self.K, size=(self.user_n, self.K))\n",
    "\n",
    "        # Init biases\n",
    "        self.item_bias = np.zeros(self.item_n)\n",
    "        self.user_bias = np.zeros(self.user_n)\n",
    "        self.total_mean = np.mean(self.sparse_matrix[np.where(self.sparse_matrix != 0)])\n",
    "\n",
    "        #Create training Samples\n",
    "        idx, jdx = self.sparse_matrix.nonzero()\n",
    "        samples = list(zip(idx, jdx))\n",
    "        \n",
    "        # Train start\n",
    "        training_log = []\n",
    "        progress = trange(self.n_epochs, desc=\"train-rmse: nan\")\n",
    "        for idx in progress:\n",
    "            np.random.shuffle(samples)\n",
    "            \n",
    "            # Gradient Descent\n",
    "            for i, u in samples:\n",
    "                # get error\n",
    "                y = self.sparse_matrix[i, u]\n",
    "                pred = self.predict(i, u)\n",
    "                error = y - pred\n",
    "                # update bias\n",
    "                self.item_bias[i] += self.lr * (error - self.beta * self.item_bias[i])\n",
    "                self.user_bias[u] += self.lr * (error - self.beta * self.user_bias[u])\n",
    "                # update latent factors\n",
    "                I_i = self.I[i,:][:]\n",
    "                self.I[i, :] += self.lr * (error * self.U[u,:] - self.beta * self.I[i,:])\n",
    "                self.U[u, :] += self.lr * (error * I_i - self.beta * self.U[u,:])\n",
    "\n",
    "            # Evaluate Current Epoch\n",
    "            rmse = self.evaluate()\n",
    "            progress.set_description(\"train-rmse: %0.6f\" % rmse)\n",
    "            progress.refresh()\n",
    "            training_log.append((idx, rmse))\n",
    "        # Train end, Save pred matrix\n",
    "        self.pred_matrix =  self.get_pred_matrix()\n",
    "        \n",
    "\n",
    "    def predict(self, i, u):\n",
    "        \"\"\"\n",
    "        :param i: item index\n",
    "        :param u: user index\n",
    "        :return: predicted rating\n",
    "        \"\"\"\n",
    "        return (\n",
    "            self.total_mean\n",
    "            + self.item_bias[i]\n",
    "            + self.user_bias[u]\n",
    "            + self.U[u,:].dot(self.I[i,:].T)\n",
    "        )\n",
    "\n"
   ]
  },
  {
   "cell_type": "code",
   "execution_count": 116,
   "id": "81323475",
   "metadata": {},
   "outputs": [
    {
     "ename": "AttributeError",
     "evalue": "fillna not found",
     "output_type": "error",
     "traceback": [
      "\u001b[0;31m---------------------------------------------------------------------------\u001b[0m",
      "\u001b[0;31mAttributeError\u001b[0m                            Traceback (most recent call last)",
      "Input \u001b[0;32mIn [116]\u001b[0m, in \u001b[0;36m<cell line: 1>\u001b[0;34m()\u001b[0m\n\u001b[0;32m----> 1\u001b[0m train \u001b[38;5;241m=\u001b[39m \u001b[43mgd\u001b[49m\u001b[43m(\u001b[49m\u001b[43muser_rating_matrix\u001b[49m\u001b[43m,\u001b[49m\u001b[43m \u001b[49m\u001b[43mK\u001b[49m\u001b[38;5;241;43m=\u001b[39;49m\u001b[38;5;241;43m300\u001b[39;49m\u001b[43m,\u001b[49m\u001b[43m \u001b[49m\u001b[43mlr\u001b[49m\u001b[38;5;241;43m=\u001b[39;49m\u001b[38;5;241;43m0.01\u001b[39;49m\u001b[43m,\u001b[49m\u001b[43m \u001b[49m\u001b[43mbeta\u001b[49m\u001b[38;5;241;43m=\u001b[39;49m\u001b[38;5;241;43m0.01\u001b[39;49m\u001b[43m,\u001b[49m\u001b[43m \u001b[49m\u001b[43mn_epochs\u001b[49m\u001b[38;5;241;43m=\u001b[39;49m\u001b[38;5;241;43m100\u001b[39;49m\u001b[43m)\u001b[49m\n\u001b[1;32m      2\u001b[0m train\u001b[38;5;241m.\u001b[39mtrain()\n",
      "Input \u001b[0;32mIn [114]\u001b[0m, in \u001b[0;36mgd.__init__\u001b[0;34m(self, sparse_matrix, K, lr, beta, n_epochs)\u001b[0m\n\u001b[1;32m      5\u001b[0m \u001b[38;5;124;03m\"\"\"\u001b[39;00m\n\u001b[1;32m      6\u001b[0m \u001b[38;5;124;03mArguments\u001b[39;00m\n\u001b[1;32m      7\u001b[0m \u001b[38;5;124;03m- sparse_matrix : user-item rating matrix\u001b[39;00m\n\u001b[0;32m   (...)\u001b[0m\n\u001b[1;32m     11\u001b[0m \u001b[38;5;124;03m- n_epochs (int) : Num of Iteration\u001b[39;00m\n\u001b[1;32m     12\u001b[0m \u001b[38;5;124;03m\"\"\"\u001b[39;00m\n\u001b[1;32m     13\u001b[0m \u001b[38;5;66;03m# convert ndArray\u001b[39;00m\n\u001b[0;32m---> 14\u001b[0m \u001b[38;5;28mself\u001b[39m\u001b[38;5;241m.\u001b[39msparse_matrix \u001b[38;5;241m=\u001b[39m \u001b[43msparse_matrix\u001b[49m\u001b[38;5;241;43m.\u001b[39;49m\u001b[43mfillna\u001b[49m(\u001b[38;5;241m0\u001b[39m)\u001b[38;5;241m.\u001b[39mto_numpy()\n\u001b[1;32m     15\u001b[0m \u001b[38;5;28mself\u001b[39m\u001b[38;5;241m.\u001b[39mitem_n, \u001b[38;5;28mself\u001b[39m\u001b[38;5;241m.\u001b[39muser_n \u001b[38;5;241m=\u001b[39m sparse_matrix\u001b[38;5;241m.\u001b[39mshape\n\u001b[1;32m     16\u001b[0m \u001b[38;5;28mself\u001b[39m\u001b[38;5;241m.\u001b[39mK \u001b[38;5;241m=\u001b[39m K\n",
      "File \u001b[0;32m~/anaconda3/envs/ball/lib/python3.9/site-packages/scipy/sparse/_base.py:764\u001b[0m, in \u001b[0;36mspmatrix.__getattr__\u001b[0;34m(self, attr)\u001b[0m\n\u001b[1;32m    762\u001b[0m     \u001b[38;5;28;01mreturn\u001b[39;00m \u001b[38;5;28mself\u001b[39m\u001b[38;5;241m.\u001b[39mgetnnz()\n\u001b[1;32m    763\u001b[0m \u001b[38;5;28;01melse\u001b[39;00m:\n\u001b[0;32m--> 764\u001b[0m     \u001b[38;5;28;01mraise\u001b[39;00m \u001b[38;5;167;01mAttributeError\u001b[39;00m(attr \u001b[38;5;241m+\u001b[39m \u001b[38;5;124m\"\u001b[39m\u001b[38;5;124m not found\u001b[39m\u001b[38;5;124m\"\u001b[39m)\n",
      "\u001b[0;31mAttributeError\u001b[0m: fillna not found"
     ]
    }
   ],
   "source": [
    "train = gd(user_rating_matrix, K=300, lr=0.01, beta=0.01, n_epochs=100)\n",
    "train.train()"
   ]
  },
  {
   "cell_type": "code",
   "execution_count": null,
   "id": "62b126de",
   "metadata": {},
   "outputs": [],
   "source": []
  },
  {
   "cell_type": "code",
   "execution_count": 54,
   "id": "3ade3f0c",
   "metadata": {},
   "outputs": [
    {
     "ename": "ValueError",
     "evalue": "The truth value of an array with more than one element is ambiguous. Use a.any() or a.all().",
     "output_type": "error",
     "traceback": [
      "\u001b[0;31m---------------------------------------------------------------------------\u001b[0m",
      "\u001b[0;31mValueError\u001b[0m                                Traceback (most recent call last)",
      "Input \u001b[0;32mIn [54]\u001b[0m, in \u001b[0;36m<cell line: 2>\u001b[0;34m()\u001b[0m\n\u001b[1;32m      1\u001b[0m factorizer \u001b[38;5;241m=\u001b[39m MatrixFactorization(R, k\u001b[38;5;241m=\u001b[39m\u001b[38;5;241m3\u001b[39m, learning_rate\u001b[38;5;241m=\u001b[39m\u001b[38;5;241m0.01\u001b[39m, reg_param\u001b[38;5;241m=\u001b[39m\u001b[38;5;241m0.01\u001b[39m, epochs\u001b[38;5;241m=\u001b[39m\u001b[38;5;241m100\u001b[39m, verbose\u001b[38;5;241m=\u001b[39m\u001b[38;5;28;01mTrue\u001b[39;00m)\n\u001b[0;32m----> 2\u001b[0m \u001b[43mfactorizer\u001b[49m\u001b[38;5;241;43m.\u001b[39;49m\u001b[43mfit\u001b[49m\u001b[43m(\u001b[49m\u001b[43m)\u001b[49m\n",
      "Input \u001b[0;32mIn [53]\u001b[0m, in \u001b[0;36mMatrixFactorization.fit\u001b[0;34m(self)\u001b[0m\n\u001b[1;32m     43\u001b[0m \u001b[38;5;28mself\u001b[39m\u001b[38;5;241m.\u001b[39m_b_P \u001b[38;5;241m=\u001b[39m np\u001b[38;5;241m.\u001b[39mzeros(\u001b[38;5;28mself\u001b[39m\u001b[38;5;241m.\u001b[39m_num_users)\n\u001b[1;32m     44\u001b[0m \u001b[38;5;28mself\u001b[39m\u001b[38;5;241m.\u001b[39m_b_Q \u001b[38;5;241m=\u001b[39m np\u001b[38;5;241m.\u001b[39mzeros(\u001b[38;5;28mself\u001b[39m\u001b[38;5;241m.\u001b[39m_num_items)\n\u001b[0;32m---> 45\u001b[0m \u001b[38;5;28mself\u001b[39m\u001b[38;5;241m.\u001b[39m_b \u001b[38;5;241m=\u001b[39m np\u001b[38;5;241m.\u001b[39mmean(\u001b[38;5;28mself\u001b[39m\u001b[38;5;241m.\u001b[39m_R[\u001b[43mnp\u001b[49m\u001b[38;5;241;43m.\u001b[39;49m\u001b[43mwhere\u001b[49m\u001b[43m(\u001b[49m\u001b[38;5;28;43mself\u001b[39;49m\u001b[38;5;241;43m.\u001b[39;49m\u001b[43m_R\u001b[49m\u001b[43m \u001b[49m\u001b[38;5;241;43m!=\u001b[39;49m\u001b[43m \u001b[49m\u001b[38;5;241;43m0\u001b[39;49m\u001b[43m)\u001b[49m])\n\u001b[1;32m     47\u001b[0m \u001b[38;5;66;03m# train while epochs\u001b[39;00m\n\u001b[1;32m     48\u001b[0m \u001b[38;5;28mself\u001b[39m\u001b[38;5;241m.\u001b[39m_training_process \u001b[38;5;241m=\u001b[39m []\n",
      "File \u001b[0;32m<__array_function__ internals>:180\u001b[0m, in \u001b[0;36mwhere\u001b[0;34m(*args, **kwargs)\u001b[0m\n",
      "File \u001b[0;32m~/anaconda3/envs/ball/lib/python3.9/site-packages/scipy/sparse/_base.py:337\u001b[0m, in \u001b[0;36mspmatrix.__bool__\u001b[0;34m(self)\u001b[0m\n\u001b[1;32m    335\u001b[0m     \u001b[38;5;28;01mreturn\u001b[39;00m \u001b[38;5;28mself\u001b[39m\u001b[38;5;241m.\u001b[39mnnz \u001b[38;5;241m!=\u001b[39m \u001b[38;5;241m0\u001b[39m\n\u001b[1;32m    336\u001b[0m \u001b[38;5;28;01melse\u001b[39;00m:\n\u001b[0;32m--> 337\u001b[0m     \u001b[38;5;28;01mraise\u001b[39;00m \u001b[38;5;167;01mValueError\u001b[39;00m(\u001b[38;5;124m\"\u001b[39m\u001b[38;5;124mThe truth value of an array with more than one \u001b[39m\u001b[38;5;124m\"\u001b[39m\n\u001b[1;32m    338\u001b[0m                      \u001b[38;5;124m\"\u001b[39m\u001b[38;5;124melement is ambiguous. Use a.any() or a.all().\u001b[39m\u001b[38;5;124m\"\u001b[39m)\n",
      "\u001b[0;31mValueError\u001b[0m: The truth value of an array with more than one element is ambiguous. Use a.any() or a.all()."
     ]
    }
   ],
   "source": [
    "factorizer = MatrixFactorization(R, k=3, learning_rate=0.01, reg_param=0.01, epochs=100, verbose=True)\n",
    "factorizer.fit()"
   ]
  },
  {
   "cell_type": "code",
   "execution_count": 52,
   "id": "584a8738",
   "metadata": {},
   "outputs": [
    {
     "data": {
      "text/plain": [
       "<945x3192 sparse matrix of type '<class 'numpy.float64'>'\n",
       "\twith 9932 stored elements in Compressed Sparse Row format>"
      ]
     },
     "execution_count": 52,
     "metadata": {},
     "output_type": "execute_result"
    }
   ],
   "source": [
    "user_rating_matrix"
   ]
  },
  {
   "cell_type": "code",
   "execution_count": null,
   "id": "2d333245",
   "metadata": {},
   "outputs": [],
   "source": []
  },
  {
   "cell_type": "code",
   "execution_count": null,
   "id": "7b5e913d",
   "metadata": {},
   "outputs": [],
   "source": []
  },
  {
   "cell_type": "code",
   "execution_count": 88,
   "id": "7ce1bcbb",
   "metadata": {},
   "outputs": [
    {
     "data": {
      "text/plain": [
       "(9932, 5)"
      ]
     },
     "execution_count": 88,
     "metadata": {},
     "output_type": "execute_result"
    }
   ],
   "source": [
    "user_rating.head()\n",
    "user_rating.shape"
   ]
  },
  {
   "cell_type": "code",
   "execution_count": 94,
   "id": "e8a14aad",
   "metadata": {},
   "outputs": [
    {
     "data": {
      "text/html": [
       "<div>\n",
       "<style scoped>\n",
       "    .dataframe tbody tr th:only-of-type {\n",
       "        vertical-align: middle;\n",
       "    }\n",
       "\n",
       "    .dataframe tbody tr th {\n",
       "        vertical-align: top;\n",
       "    }\n",
       "\n",
       "    .dataframe thead th {\n",
       "        text-align: right;\n",
       "    }\n",
       "</style>\n",
       "<table border=\"1\" class=\"dataframe\">\n",
       "  <thead>\n",
       "    <tr style=\"text-align: right;\">\n",
       "      <th></th>\n",
       "      <th>review_profilename</th>\n",
       "      <th>beer_name</th>\n",
       "      <th>review_overall</th>\n",
       "      <th>review_aroma</th>\n",
       "      <th>review_appearance</th>\n",
       "    </tr>\n",
       "  </thead>\n",
       "  <tbody>\n",
       "    <tr>\n",
       "      <th>7022</th>\n",
       "      <td>Absumaster</td>\n",
       "      <td>La Binchoise Blonde Tradition</td>\n",
       "      <td>4.0</td>\n",
       "      <td>3.5</td>\n",
       "      <td>4.0</td>\n",
       "    </tr>\n",
       "    <tr>\n",
       "      <th>7023</th>\n",
       "      <td>jwc215</td>\n",
       "      <td>La Binchoise Blonde Tradition</td>\n",
       "      <td>4.5</td>\n",
       "      <td>4.0</td>\n",
       "      <td>4.5</td>\n",
       "    </tr>\n",
       "    <tr>\n",
       "      <th>7024</th>\n",
       "      <td>djeucalyptus</td>\n",
       "      <td>La Binchoise Blonde Tradition</td>\n",
       "      <td>4.5</td>\n",
       "      <td>4.0</td>\n",
       "      <td>4.5</td>\n",
       "    </tr>\n",
       "    <tr>\n",
       "      <th>7025</th>\n",
       "      <td>gregmurer</td>\n",
       "      <td>La Binchoise Blonde Tradition</td>\n",
       "      <td>5.0</td>\n",
       "      <td>4.0</td>\n",
       "      <td>4.5</td>\n",
       "    </tr>\n",
       "    <tr>\n",
       "      <th>7026</th>\n",
       "      <td>Nipitato</td>\n",
       "      <td>La Binchoise Blonde Tradition</td>\n",
       "      <td>4.5</td>\n",
       "      <td>5.0</td>\n",
       "      <td>3.5</td>\n",
       "    </tr>\n",
       "  </tbody>\n",
       "</table>\n",
       "</div>"
      ],
      "text/plain": [
       "     review_profilename                      beer_name  review_overall  \\\n",
       "7022         Absumaster  La Binchoise Blonde Tradition             4.0   \n",
       "7023             jwc215  La Binchoise Blonde Tradition             4.5   \n",
       "7024       djeucalyptus  La Binchoise Blonde Tradition             4.5   \n",
       "7025          gregmurer  La Binchoise Blonde Tradition             5.0   \n",
       "7026           Nipitato  La Binchoise Blonde Tradition             4.5   \n",
       "\n",
       "      review_aroma  review_appearance  \n",
       "7022           3.5                4.0  \n",
       "7023           4.0                4.5  \n",
       "7024           4.0                4.5  \n",
       "7025           4.0                4.5  \n",
       "7026           5.0                3.5  "
      ]
     },
     "execution_count": 94,
     "metadata": {},
     "output_type": "execute_result"
    }
   ],
   "source": [
    "train_dataset = user_rating.iloc[0:6001]\n",
    "val_dataset = user_rating.iloc[6001: 7000]\n",
    "test_dataset = user_rating.iloc[7000:]\n",
    "test_dataset.head()"
   ]
  },
  {
   "cell_type": "code",
   "execution_count": null,
   "id": "de28bc24",
   "metadata": {},
   "outputs": [],
   "source": []
  },
  {
   "cell_type": "code",
   "execution_count": null,
   "id": "eaf0e79d",
   "metadata": {},
   "outputs": [],
   "source": []
  },
  {
   "cell_type": "code",
   "execution_count": 126,
   "id": "456afaac",
   "metadata": {},
   "outputs": [],
   "source": [
    "dff = dff.fillna(0)\n",
    "dff.shape\n",
    "dff = dff.iloc[0:10001]"
   ]
  },
  {
   "cell_type": "code",
   "execution_count": 127,
   "id": "d5288f34",
   "metadata": {},
   "outputs": [
    {
     "data": {
      "text/html": [
       "<div>\n",
       "<style scoped>\n",
       "    .dataframe tbody tr th:only-of-type {\n",
       "        vertical-align: middle;\n",
       "    }\n",
       "\n",
       "    .dataframe tbody tr th {\n",
       "        vertical-align: top;\n",
       "    }\n",
       "\n",
       "    .dataframe thead th {\n",
       "        text-align: right;\n",
       "    }\n",
       "</style>\n",
       "<table border=\"1\" class=\"dataframe\">\n",
       "  <thead>\n",
       "    <tr style=\"text-align: right;\">\n",
       "      <th></th>\n",
       "      <th>user</th>\n",
       "      <th>item</th>\n",
       "      <th>raw_ratings</th>\n",
       "    </tr>\n",
       "  </thead>\n",
       "  <tbody>\n",
       "    <tr>\n",
       "      <th>1</th>\n",
       "      <td>2913</td>\n",
       "      <td>695</td>\n",
       "      <td>3.0</td>\n",
       "    </tr>\n",
       "    <tr>\n",
       "      <th>2</th>\n",
       "      <td>2913</td>\n",
       "      <td>123</td>\n",
       "      <td>3.0</td>\n",
       "    </tr>\n",
       "    <tr>\n",
       "      <th>3</th>\n",
       "      <td>2913</td>\n",
       "      <td>747</td>\n",
       "      <td>3.0</td>\n",
       "    </tr>\n",
       "    <tr>\n",
       "      <th>4</th>\n",
       "      <td>2254</td>\n",
       "      <td>208</td>\n",
       "      <td>4.0</td>\n",
       "    </tr>\n",
       "    <tr>\n",
       "      <th>5</th>\n",
       "      <td>2604</td>\n",
       "      <td>194</td>\n",
       "      <td>3.0</td>\n",
       "    </tr>\n",
       "    <tr>\n",
       "      <th>...</th>\n",
       "      <td>...</td>\n",
       "      <td>...</td>\n",
       "      <td>...</td>\n",
       "    </tr>\n",
       "    <tr>\n",
       "      <th>7018</th>\n",
       "      <td>1756</td>\n",
       "      <td>514</td>\n",
       "      <td>4.0</td>\n",
       "    </tr>\n",
       "    <tr>\n",
       "      <th>7019</th>\n",
       "      <td>2646</td>\n",
       "      <td>514</td>\n",
       "      <td>2.5</td>\n",
       "    </tr>\n",
       "    <tr>\n",
       "      <th>7020</th>\n",
       "      <td>637</td>\n",
       "      <td>514</td>\n",
       "      <td>3.0</td>\n",
       "    </tr>\n",
       "    <tr>\n",
       "      <th>7021</th>\n",
       "      <td>2975</td>\n",
       "      <td>514</td>\n",
       "      <td>3.5</td>\n",
       "    </tr>\n",
       "    <tr>\n",
       "      <th>7022</th>\n",
       "      <td>37</td>\n",
       "      <td>514</td>\n",
       "      <td>4.0</td>\n",
       "    </tr>\n",
       "  </tbody>\n",
       "</table>\n",
       "<p>7001 rows × 3 columns</p>\n",
       "</div>"
      ],
      "text/plain": [
       "      user  item  raw_ratings\n",
       "1     2913   695          3.0\n",
       "2     2913   123          3.0\n",
       "3     2913   747          3.0\n",
       "4     2254   208          4.0\n",
       "5     2604   194          3.0\n",
       "...    ...   ...          ...\n",
       "7018  1756   514          4.0\n",
       "7019  2646   514          2.5\n",
       "7020   637   514          3.0\n",
       "7021  2975   514          3.5\n",
       "7022    37   514          4.0\n",
       "\n",
       "[7001 rows x 3 columns]"
      ]
     },
     "execution_count": 127,
     "metadata": {},
     "output_type": "execute_result"
    }
   ],
   "source": [
    "dff"
   ]
  },
  {
   "cell_type": "code",
   "execution_count": 128,
   "id": "de3d836b",
   "metadata": {},
   "outputs": [],
   "source": [
    "dff_pivot = dff.pivot(\n",
    "    index='user',\n",
    "    columns='item',\n",
    "    values='raw_ratings'\n",
    ")\n",
    "\n",
    "ratings = dff_pivot.fillna(0).values"
   ]
  },
  {
   "cell_type": "code",
   "execution_count": 130,
   "id": "0287ccbe",
   "metadata": {},
   "outputs": [
    {
     "name": "stdout",
     "output_type": "stream",
     "text": [
      "0.43%\n"
     ]
    }
   ],
   "source": [
    "sparsity = float(len(ratings.nonzero()[0]))\n",
    "sparsity /= (ratings.shape[0] * ratings.shape[1])\n",
    "sparsity *= 100\n",
    "print('{:.2f}%'.format(sparsity))"
   ]
  },
  {
   "cell_type": "code",
   "execution_count": 131,
   "id": "c11e14be",
   "metadata": {},
   "outputs": [],
   "source": [
    "from sklearn.model_selection import train_test_split\n",
    "\n",
    "train, val = train_test_split(ratings)"
   ]
  },
  {
   "cell_type": "code",
   "execution_count": 132,
   "id": "ddf5b782",
   "metadata": {},
   "outputs": [],
   "source": [
    "MIN_USER_RATINGS = 35\n",
    "DELETE_RATING_COUNT = 15\n",
    "\n",
    "def train_test_split(ratings):\n",
    "\n",
    "    validation = np.zeros(ratings.shape)\n",
    "    train = ratings.copy()\n",
    "\n",
    "    for user in np.arange(ratings.shape[0]):\n",
    "        if len(ratings[user,:].nonzero()[0]) >= MIN_USER_RATINGS:\n",
    "            val_ratings = np.random.choice(\n",
    "              ratings[user, :].nonzero()[0],\n",
    "              size=DELETE_RATING_COUNT,\n",
    "              replace=False\n",
    "            )\n",
    "            train[user, val_ratings] = 0\n",
    "            validation[user, val_ratings] = ratings[user, val_ratings]\n",
    "    return train, validation"
   ]
  },
  {
   "cell_type": "code",
   "execution_count": 133,
   "id": "5ebb0584",
   "metadata": {},
   "outputs": [],
   "source": [
    "def rmse(prediction, ground_truth):\n",
    "    prediction = prediction[ground_truth.nonzero()].flatten()\n",
    "    ground_truth = ground_truth[ground_truth.nonzero()].flatten()\n",
    "    return sqrt(mean_squared_error(prediction, ground_truth))"
   ]
  },
  {
   "cell_type": "code",
   "execution_count": 134,
   "id": "f93ba361",
   "metadata": {},
   "outputs": [],
   "source": [
    "\n",
    "def fit(self, X_train, X_val):\n",
    "  m, n = X_train.shape\n",
    "\n",
    "  self.P = 3 * np.random.rand(self.n_latent_features, m)\n",
    "  self.Q = 3 * np.random.rand(self.n_latent_features, n)\n",
    "\n",
    "  self.train_error = []\n",
    "  self.val_error = []\n",
    "\n",
    "  users, items = X_train.nonzero()\n",
    "\n",
    "  for epoch in range(self.n_epochs):\n",
    "      for u, i in zip(users, items):\n",
    "          error = X_train[u, i] - self.predictions(self.P[:,u], self.Q[:,i])\n",
    "          self.P[:, u] += self.learning_rate * \\\n",
    "           (error * self.Q[:, i] - self.lmbda * self.P[:, u])\n",
    "          self.Q[:, i] += self.learning_rate * \\\n",
    "           (error * self.P[:, u] - self.lmbda * self.Q[:, i])\n",
    "\n",
    "      train_rmse = rmse(self.predictions(self.P, self.Q), X_train)\n",
    "      val_rmse = rmse(self.predictions(self.P, self.Q), X_val)\n",
    "      self.train_error.append(train_rmse)\n",
    "      self.val_error.append(val_rmse)"
   ]
  },
  {
   "cell_type": "code",
   "execution_count": 136,
   "id": "09052576",
   "metadata": {},
   "outputs": [],
   "source": [
    "def predictions(self, P, Q):\n",
    "  return np.dot(P.T, Q)"
   ]
  },
  {
   "cell_type": "code",
   "execution_count": 137,
   "id": "3a95c240",
   "metadata": {},
   "outputs": [],
   "source": [
    "def predict(self, X_train, user_index):\n",
    "  y_hat = self.predictions(self.P, self.Q)\n",
    "  predictions_index = np.where(X_train[user_index, :] == 0)[0]\n",
    "  return y_hat[user_index, predictions_index].flatten()"
   ]
  },
  {
   "cell_type": "code",
   "execution_count": 146,
   "id": "421b17fa",
   "metadata": {},
   "outputs": [],
   "source": [
    "class recommender:\n",
    "    \n",
    "    def fit(self, X_train, X_val):\n",
    "      m, n = X_train.shape\n",
    "\n",
    "      self.P = 3 * np.random.rand(self.n_latent_features, m)\n",
    "      self.Q = 3 * np.random.rand(self.n_latent_features, n)\n",
    "\n",
    "      self.train_error = []\n",
    "      self.val_error = []\n",
    "\n",
    "      users, items = X_train.nonzero()\n",
    "\n",
    "      for epoch in range(self.n_epochs):\n",
    "          for u, i in zip(users, items):\n",
    "              error = X_train[u, i] - self.predictions(self.P[:,u], self.Q[:,i])\n",
    "              self.P[:, u] += self.learning_rate * \\\n",
    "               (error * self.Q[:, i] - self.lmbda * self.P[:, u])\n",
    "              self.Q[:, i] += self.learning_rate * \\\n",
    "               (error * self.P[:, u] - self.lmbda * self.Q[:, i])\n",
    "\n",
    "          train_rmse = rmse(self.predictions(self.P, self.Q), X_train)\n",
    "          val_rmse = rmse(self.predictions(self.P, self.Q), X_val)\n",
    "          self.train_error.append(train_rmse)\n",
    "          self.val_error.append(val_rmse)\n",
    "            \n",
    "    def predictions(self, P, Q):\n",
    "        return np.dot(P.T, Q)\n",
    "    \n",
    "    def predict(self, X_train, user_index):\n",
    "      y_hat = self.predictions(self.P, self.Q)\n",
    "      predictions_index = np.where(X_train[user_index, :] == 0)[0]\n",
    "      return y_hat[user_index, predictions_index].flatten()"
   ]
  },
  {
   "cell_type": "code",
   "execution_count": 147,
   "id": "ab5bf081",
   "metadata": {},
   "outputs": [
    {
     "ename": "NameError",
     "evalue": "name 'x_train' is not defined",
     "output_type": "error",
     "traceback": [
      "\u001b[0;31m---------------------------------------------------------------------------\u001b[0m",
      "\u001b[0;31mNameError\u001b[0m                                 Traceback (most recent call last)",
      "Input \u001b[0;32mIn [147]\u001b[0m, in \u001b[0;36m<cell line: 6>\u001b[0;34m()\u001b[0m\n\u001b[1;32m      3\u001b[0m predictions_index \u001b[38;5;241m=\u001b[39m np\u001b[38;5;241m.\u001b[39mwhere(train[user_index, :] \u001b[38;5;241m==\u001b[39m \u001b[38;5;241m0\u001b[39m)[\u001b[38;5;241m0\u001b[39m]\n\u001b[1;32m      5\u001b[0m recommender1 \u001b[38;5;241m=\u001b[39m recommender()\n\u001b[0;32m----> 6\u001b[0m recommender1\u001b[38;5;241m.\u001b[39mfit(\u001b[43mx_train\u001b[49m, y_train)\n\u001b[1;32m      7\u001b[0m rating_predictions \u001b[38;5;241m=\u001b[39m recommender\u001b[38;5;241m.\u001b[39mpredict(train, user_index)\n",
      "\u001b[0;31mNameError\u001b[0m: name 'x_train' is not defined"
     ]
    }
   ],
   "source": [
    "user_id = 1236\n",
    "user_index = dff.index.get_loc(user_id)\n",
    "predictions_index = np.where(train[user_index, :] == 0)[0]\n",
    "\n",
    "recommender1 = recommender()\n",
    "recommender1.fit(x_train, y_train)\n",
    "rating_predictions = recommender.predict(train, user_index)"
   ]
  }
 ],
 "metadata": {
  "kernelspec": {
   "display_name": "Python 3 (ipykernel)",
   "language": "python",
   "name": "python3"
  },
  "language_info": {
   "codemirror_mode": {
    "name": "ipython",
    "version": 3
   },
   "file_extension": ".py",
   "mimetype": "text/x-python",
   "name": "python",
   "nbconvert_exporter": "python",
   "pygments_lexer": "ipython3",
   "version": "3.9.12"
  }
 },
 "nbformat": 4,
 "nbformat_minor": 5
}
